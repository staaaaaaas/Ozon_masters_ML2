{
 "cells": [
  {
   "cell_type": "markdown",
   "id": "2b969984-83f0-457d-90f8-f77943f06014",
   "metadata": {},
   "source": [
    "# C2\n",
    "# Предсказание отмены такси\n",
    "\n",
    "## курс \"Машинное обучение 2\", программа OzonMasters, 2022\n",
    "\n",
    "## Студент: Арешин Станислав Олегович\n",
    "\n",
    "## Baseline 2. Лучшее решение. Blanding\n",
    "\n",
    "В данном ноутбуке представлено лучшее решение. Скор решения на паблике 0.75779, место 8/65. Подробное описание решения и процесса генерации признаков см. в ноутбуке baseline2_solution.ipynb. Для небольшого улучшения скора я решил заблендить несколько алгоритмов и это действительно дало небольшой прирост. Ноутбук с валидацией отдельно приводить не буду, так как он избыточен, отличие от кода baseline2_solution.ipynb только в построении модели. Данный ноутбук полностью восстанавливает мой лучший сабмит.\n",
    "\n",
    "Делим обучающую выборку на две части train1 и train2\n",
    "\n",
    "Модель следующая:\n",
    "\n",
    "* Метапризнаки из двух отличающихся LGBMRegressor (обучаем на train1, получаем признаки для train2 и test)\n",
    "* Метапризнаки из двух отличающихся CatBoostRegressor (аналогично обучаем на train1, получаем признаки для train2 и test)\n",
    "* Метапризнаки из двух отличающихся RandomForestRegressor (аналогично обучаем на train1, получаем признаки для train2 и test)\n",
    "* На метапризнаках train2 обучаем CatBoostClassifier\n",
    "* Делаем предикт по метапризнакам test"
   ]
  },
  {
   "cell_type": "code",
   "execution_count": 1,
   "id": "6918d4ee-5ef7-4c1f-b7fd-f98517148265",
   "metadata": {},
   "outputs": [],
   "source": [
    "import pandas as pd\n",
    "import numpy as np\n",
    "import matplotlib.pyplot as plt\n",
    "import seaborn as sns \n",
    "import warnings\n",
    "from tqdm import tqdm\n",
    "warnings.filterwarnings(\"ignore\")\n",
    "\n",
    "sns.set_style(\"darkgrid\", {\"grid.color\": \".6\", \"grid.linestyle\": \":\"})\n",
    "\n",
    "%matplotlib inline"
   ]
  },
  {
   "cell_type": "markdown",
   "id": "768e6823-91c0-448c-aad9-74c03e3fa4ac",
   "metadata": {},
   "source": [
    "# Загрузка данных"
   ]
  },
  {
   "cell_type": "code",
   "execution_count": 2,
   "id": "eaaa499e-9c09-411c-b290-3d3889005033",
   "metadata": {},
   "outputs": [
    {
     "name": "stdout",
     "output_type": "stream",
     "text": [
      "(1187461, 14)\n"
     ]
    },
    {
     "data": {
      "text/html": [
       "<div>\n",
       "<style scoped>\n",
       "    .dataframe tbody tr th:only-of-type {\n",
       "        vertical-align: middle;\n",
       "    }\n",
       "\n",
       "    .dataframe tbody tr th {\n",
       "        vertical-align: top;\n",
       "    }\n",
       "\n",
       "    .dataframe thead th {\n",
       "        text-align: right;\n",
       "    }\n",
       "</style>\n",
       "<table border=\"1\" class=\"dataframe\">\n",
       "  <thead>\n",
       "    <tr style=\"text-align: right;\">\n",
       "      <th></th>\n",
       "      <th>dist</th>\n",
       "      <th>due</th>\n",
       "      <th>f_class</th>\n",
       "      <th>lat</th>\n",
       "      <th>lon</th>\n",
       "      <th>s_class</th>\n",
       "      <th>t_class</th>\n",
       "      <th>dist_to_MOSCOW</th>\n",
       "      <th>dist_to_SPB</th>\n",
       "      <th>dist_to_KAZAN</th>\n",
       "      <th>dist_to_N_NOVGOROD</th>\n",
       "      <th>dist_to_VORONEZH</th>\n",
       "      <th>min_dist_to_city</th>\n",
       "      <th>target</th>\n",
       "    </tr>\n",
       "  </thead>\n",
       "  <tbody>\n",
       "    <tr>\n",
       "      <th>823150</th>\n",
       "      <td>17990.125431</td>\n",
       "      <td>2014-01-01 00:09:32.000</td>\n",
       "      <td>econom</td>\n",
       "      <td>55.750130</td>\n",
       "      <td>37.823242</td>\n",
       "      <td>NaN</td>\n",
       "      <td>NaN</td>\n",
       "      <td>0.206023</td>\n",
       "      <td>8.577844</td>\n",
       "      <td>11.243127</td>\n",
       "      <td>6.209581</td>\n",
       "      <td>4.315741</td>\n",
       "      <td>0.206023</td>\n",
       "      <td>1</td>\n",
       "    </tr>\n",
       "    <tr>\n",
       "      <th>685195</th>\n",
       "      <td>2322.180999</td>\n",
       "      <td>2014-01-01 00:10:00.000</td>\n",
       "      <td>econom</td>\n",
       "      <td>55.711488</td>\n",
       "      <td>37.884183</td>\n",
       "      <td>NaN</td>\n",
       "      <td>NaN</td>\n",
       "      <td>0.270543</td>\n",
       "      <td>8.649893</td>\n",
       "      <td>11.182532</td>\n",
       "      <td>6.152650</td>\n",
       "      <td>4.259919</td>\n",
       "      <td>0.270543</td>\n",
       "      <td>0</td>\n",
       "    </tr>\n",
       "    <tr>\n",
       "      <th>996389</th>\n",
       "      <td>14608.577392</td>\n",
       "      <td>2014-01-01 00:10:00.000</td>\n",
       "      <td>econom</td>\n",
       "      <td>55.633404</td>\n",
       "      <td>37.797595</td>\n",
       "      <td>NaN</td>\n",
       "      <td>NaN</td>\n",
       "      <td>0.217931</td>\n",
       "      <td>8.613152</td>\n",
       "      <td>11.270209</td>\n",
       "      <td>6.246994</td>\n",
       "      <td>4.213747</td>\n",
       "      <td>0.217931</td>\n",
       "      <td>0</td>\n",
       "    </tr>\n",
       "    <tr>\n",
       "      <th>497811</th>\n",
       "      <td>20055.569096</td>\n",
       "      <td>2014-01-01 00:10:00.000</td>\n",
       "      <td>econom</td>\n",
       "      <td>55.780380</td>\n",
       "      <td>37.645240</td>\n",
       "      <td>NaN</td>\n",
       "      <td>NaN</td>\n",
       "      <td>0.037198</td>\n",
       "      <td>8.407917</td>\n",
       "      <td>11.420952</td>\n",
       "      <td>6.384175</td>\n",
       "      <td>4.404071</td>\n",
       "      <td>0.037198</td>\n",
       "      <td>0</td>\n",
       "    </tr>\n",
       "    <tr>\n",
       "      <th>812346</th>\n",
       "      <td>20585.444093</td>\n",
       "      <td>2014-01-01 00:10:00.000</td>\n",
       "      <td>econom</td>\n",
       "      <td>55.675676</td>\n",
       "      <td>37.500387</td>\n",
       "      <td>NaN</td>\n",
       "      <td>NaN</td>\n",
       "      <td>0.141746</td>\n",
       "      <td>8.335291</td>\n",
       "      <td>11.566730</td>\n",
       "      <td>6.538104</td>\n",
       "      <td>4.360663</td>\n",
       "      <td>0.141746</td>\n",
       "      <td>1</td>\n",
       "    </tr>\n",
       "  </tbody>\n",
       "</table>\n",
       "</div>"
      ],
      "text/plain": [
       "                dist                      due f_class        lat        lon  \\\n",
       "823150  17990.125431  2014-01-01 00:09:32.000  econom  55.750130  37.823242   \n",
       "685195   2322.180999  2014-01-01 00:10:00.000  econom  55.711488  37.884183   \n",
       "996389  14608.577392  2014-01-01 00:10:00.000  econom  55.633404  37.797595   \n",
       "497811  20055.569096  2014-01-01 00:10:00.000  econom  55.780380  37.645240   \n",
       "812346  20585.444093  2014-01-01 00:10:00.000  econom  55.675676  37.500387   \n",
       "\n",
       "       s_class t_class  dist_to_MOSCOW  dist_to_SPB  dist_to_KAZAN  \\\n",
       "823150     NaN     NaN        0.206023     8.577844      11.243127   \n",
       "685195     NaN     NaN        0.270543     8.649893      11.182532   \n",
       "996389     NaN     NaN        0.217931     8.613152      11.270209   \n",
       "497811     NaN     NaN        0.037198     8.407917      11.420952   \n",
       "812346     NaN     NaN        0.141746     8.335291      11.566730   \n",
       "\n",
       "        dist_to_N_NOVGOROD  dist_to_VORONEZH  min_dist_to_city  target  \n",
       "823150            6.209581          4.315741          0.206023       1  \n",
       "685195            6.152650          4.259919          0.270543       0  \n",
       "996389            6.246994          4.213747          0.217931       0  \n",
       "497811            6.384175          4.404071          0.037198       0  \n",
       "812346            6.538104          4.360663          0.141746       1  "
      ]
     },
     "execution_count": 2,
     "metadata": {},
     "output_type": "execute_result"
    }
   ],
   "source": [
    "df_train = pd.read_csv('1_data/train_data_w_dists.csv')\n",
    "target = pd.read_csv('1_data/train_target.csv')\n",
    "df_train['target'] = np.array(target)\n",
    "df_train = df_train.sort_values('due')\n",
    "print(df_train.shape)\n",
    "df_train.head()"
   ]
  },
  {
   "cell_type": "code",
   "execution_count": 3,
   "id": "259d4e50-d211-4318-a98f-b4e7f9742dd9",
   "metadata": {},
   "outputs": [
    {
     "name": "stdout",
     "output_type": "stream",
     "text": [
      "(510937, 13)\n"
     ]
    },
    {
     "data": {
      "text/html": [
       "<div>\n",
       "<style scoped>\n",
       "    .dataframe tbody tr th:only-of-type {\n",
       "        vertical-align: middle;\n",
       "    }\n",
       "\n",
       "    .dataframe tbody tr th {\n",
       "        vertical-align: top;\n",
       "    }\n",
       "\n",
       "    .dataframe thead th {\n",
       "        text-align: right;\n",
       "    }\n",
       "</style>\n",
       "<table border=\"1\" class=\"dataframe\">\n",
       "  <thead>\n",
       "    <tr style=\"text-align: right;\">\n",
       "      <th></th>\n",
       "      <th>dist</th>\n",
       "      <th>due</th>\n",
       "      <th>f_class</th>\n",
       "      <th>lat</th>\n",
       "      <th>lon</th>\n",
       "      <th>s_class</th>\n",
       "      <th>t_class</th>\n",
       "      <th>dist_to_MOSCOW</th>\n",
       "      <th>dist_to_SPB</th>\n",
       "      <th>dist_to_KAZAN</th>\n",
       "      <th>dist_to_N_NOVGOROD</th>\n",
       "      <th>dist_to_VORONEZH</th>\n",
       "      <th>min_dist_to_city</th>\n",
       "    </tr>\n",
       "  </thead>\n",
       "  <tbody>\n",
       "    <tr>\n",
       "      <th>418832</th>\n",
       "      <td>12228.949942</td>\n",
       "      <td>2014-03-06 08:00:00.000</td>\n",
       "      <td>econom</td>\n",
       "      <td>55.709632</td>\n",
       "      <td>37.767186</td>\n",
       "      <td>business</td>\n",
       "      <td>NaN</td>\n",
       "      <td>0.156845</td>\n",
       "      <td>8.548894</td>\n",
       "      <td>11.299542</td>\n",
       "      <td>6.269254</td>\n",
       "      <td>4.295751</td>\n",
       "      <td>0.156845</td>\n",
       "    </tr>\n",
       "    <tr>\n",
       "      <th>330723</th>\n",
       "      <td>11792.691777</td>\n",
       "      <td>2014-03-06 08:00:00.000</td>\n",
       "      <td>business</td>\n",
       "      <td>55.867147</td>\n",
       "      <td>37.665435</td>\n",
       "      <td>NaN</td>\n",
       "      <td>NaN</td>\n",
       "      <td>0.121284</td>\n",
       "      <td>8.383043</td>\n",
       "      <td>11.400706</td>\n",
       "      <td>6.357193</td>\n",
       "      <td>4.478395</td>\n",
       "      <td>0.121284</td>\n",
       "    </tr>\n",
       "    <tr>\n",
       "      <th>440585</th>\n",
       "      <td>1424.111651</td>\n",
       "      <td>2014-03-06 08:00:00.000</td>\n",
       "      <td>econom</td>\n",
       "      <td>55.747110</td>\n",
       "      <td>37.642815</td>\n",
       "      <td>business</td>\n",
       "      <td>NaN</td>\n",
       "      <td>0.026964</td>\n",
       "      <td>8.422299</td>\n",
       "      <td>11.423571</td>\n",
       "      <td>6.389524</td>\n",
       "      <td>4.373822</td>\n",
       "      <td>0.026964</td>\n",
       "    </tr>\n",
       "    <tr>\n",
       "      <th>462500</th>\n",
       "      <td>487.808926</td>\n",
       "      <td>2014-03-06 08:00:00.000</td>\n",
       "      <td>econom</td>\n",
       "      <td>55.744936</td>\n",
       "      <td>37.615057</td>\n",
       "      <td>business</td>\n",
       "      <td>NaN</td>\n",
       "      <td>0.011117</td>\n",
       "      <td>8.399310</td>\n",
       "      <td>11.451344</td>\n",
       "      <td>6.417364</td>\n",
       "      <td>4.381755</td>\n",
       "      <td>0.011117</td>\n",
       "    </tr>\n",
       "    <tr>\n",
       "      <th>75315</th>\n",
       "      <td>2503.594134</td>\n",
       "      <td>2014-03-06 08:00:00.000</td>\n",
       "      <td>econom</td>\n",
       "      <td>55.762961</td>\n",
       "      <td>37.619647</td>\n",
       "      <td>business</td>\n",
       "      <td>NaN</td>\n",
       "      <td>0.007513</td>\n",
       "      <td>8.394317</td>\n",
       "      <td>11.446634</td>\n",
       "      <td>6.411183</td>\n",
       "      <td>4.396913</td>\n",
       "      <td>0.007513</td>\n",
       "    </tr>\n",
       "  </tbody>\n",
       "</table>\n",
       "</div>"
      ],
      "text/plain": [
       "                dist                      due   f_class        lat        lon  \\\n",
       "418832  12228.949942  2014-03-06 08:00:00.000    econom  55.709632  37.767186   \n",
       "330723  11792.691777  2014-03-06 08:00:00.000  business  55.867147  37.665435   \n",
       "440585   1424.111651  2014-03-06 08:00:00.000    econom  55.747110  37.642815   \n",
       "462500    487.808926  2014-03-06 08:00:00.000    econom  55.744936  37.615057   \n",
       "75315    2503.594134  2014-03-06 08:00:00.000    econom  55.762961  37.619647   \n",
       "\n",
       "         s_class t_class  dist_to_MOSCOW  dist_to_SPB  dist_to_KAZAN  \\\n",
       "418832  business     NaN        0.156845     8.548894      11.299542   \n",
       "330723       NaN     NaN        0.121284     8.383043      11.400706   \n",
       "440585  business     NaN        0.026964     8.422299      11.423571   \n",
       "462500  business     NaN        0.011117     8.399310      11.451344   \n",
       "75315   business     NaN        0.007513     8.394317      11.446634   \n",
       "\n",
       "        dist_to_N_NOVGOROD  dist_to_VORONEZH  min_dist_to_city  \n",
       "418832            6.269254          4.295751          0.156845  \n",
       "330723            6.357193          4.478395          0.121284  \n",
       "440585            6.389524          4.373822          0.026964  \n",
       "462500            6.417364          4.381755          0.011117  \n",
       "75315             6.411183          4.396913          0.007513  "
      ]
     },
     "execution_count": 3,
     "metadata": {},
     "output_type": "execute_result"
    }
   ],
   "source": [
    "df_test = pd.read_csv('1_data/test_data_w_dists.csv')\n",
    "df_test = df_test.sort_values('due')\n",
    "print(df_test.shape)\n",
    "\n",
    "df_test.head()"
   ]
  },
  {
   "cell_type": "markdown",
   "id": "e7713024-92f5-4ad8-a814-1585148bd42a",
   "metadata": {},
   "source": [
    "# get_dists_from_cities"
   ]
  },
  {
   "cell_type": "code",
   "execution_count": 4,
   "id": "0992a43f-6862-406a-a1c3-0efd77f43d76",
   "metadata": {},
   "outputs": [],
   "source": [
    "from scipy.spatial import distance\n",
    "\n",
    "def get_dists_from_cities(row):\n",
    "    MOSCOW = np.array([55.755825, 37.617298])\n",
    "    SPB = np.array([59.934280, 30.335098])\n",
    "    KAZAN = np.array([55.830433, 49.066082])\n",
    "    N_NOVGOROD = np.array([56.326790, 44.005989])\n",
    "    VORONEZH = np.array([51.659908, 39.200089])\n",
    "    dist_to_MOSCOW = distance.euclidean(row[['lat', 'lon']], MOSCOW)\n",
    "    dist_to_SPB = distance.euclidean(row[['lat', 'lon']], SPB)\n",
    "    dist_to_KAZAN = distance.euclidean(row[['lat', 'lon']], KAZAN)\n",
    "    dist_to_N_NOVGOROD = distance.euclidean(row[['lat', 'lon']], N_NOVGOROD)\n",
    "    dist_to_VORONEZH = distance.euclidean(row[['lat', 'lon']], VORONEZH)\n",
    "    min_dist_to_city = np.min([dist_to_MOSCOW, dist_to_SPB, dist_to_KAZAN, dist_to_N_NOVGOROD, dist_to_VORONEZH]) \n",
    "    return dist_to_MOSCOW, dist_to_SPB, dist_to_KAZAN, dist_to_N_NOVGOROD, dist_to_VORONEZH, min_dist_to_city"
   ]
  },
  {
   "cell_type": "code",
   "execution_count": 5,
   "id": "f2c24756-fcd6-4a46-a992-728e92147f28",
   "metadata": {},
   "outputs": [],
   "source": [
    "%%time\n",
    "\n",
    "df[['dist_to_MOSCOW', 'dist_to_SPB', 'dist_to_KAZAN', 'dist_to_N_NOVGOROD',\\\n",
    "          'dist_to_VORONEZH', 'min_dist_to_city']] = df[['lat', 'lon']].apply(\\\n",
    "                                                        get_dists_from_cities, result_type='expand', axis=1)"
   ]
  },
  {
   "cell_type": "code",
   "execution_count": 6,
   "id": "439d40b9-ecde-4556-a071-697c6eadcab0",
   "metadata": {},
   "outputs": [],
   "source": [
    "%%time\n",
    "\n",
    "df_test[['dist_to_MOSCOW', 'dist_to_SPB', 'dist_to_KAZAN', 'dist_to_N_NOVGOROD',\\\n",
    "          'dist_to_VORONEZH', 'min_dist_to_city']] = df_test[['lat', 'lon']].apply(\\\n",
    "                                                        get_dists_from_cities, result_type='expand', axis=1)"
   ]
  },
  {
   "cell_type": "code",
   "execution_count": 7,
   "id": "ff2974c1-ac95-464d-8ede-86e14cbd3631",
   "metadata": {},
   "outputs": [],
   "source": [
    "# df.to_csv('1_data/train_data_w_dists.csv', index=False)\n",
    "# df_test.to_csv('1_data/test_data_w_dists.csv', index=False)"
   ]
  },
  {
   "cell_type": "markdown",
   "id": "b26027ad-da2c-4899-856d-0dac95c6ee8c",
   "metadata": {},
   "source": [
    "# Обучающая выборка\n",
    "\n",
    "Делим выборку на две части 0.65 и 0.35. На первой части будем получать мета признаки алгоритмов и на второй части обучать итоговый алгоритм на мета признаках."
   ]
  },
  {
   "cell_type": "code",
   "execution_count": 10,
   "id": "cc9c0f06-5513-4017-a43f-778afd2e43ce",
   "metadata": {},
   "outputs": [
    {
     "name": "stdout",
     "output_type": "stream",
     "text": [
      "Train1 shape : (771849, 14)\n",
      "Train2 shape : (415612, 14)\n"
     ]
    }
   ],
   "source": [
    "df_train1 = df_train[:int(len(df_train) * 0.65)].copy()\n",
    "df_train2 = df_train[int(len(df_train) * 0.65) :].copy()\n",
    "\n",
    "print(f'Train1 shape : {df_train1.shape}')\n",
    "print(f'Train2 shape : {df_train2.shape}')"
   ]
  },
  {
   "cell_type": "markdown",
   "id": "af612ec0-6018-460d-bff5-989e40cd3b82",
   "metadata": {},
   "source": [
    "# get_datetime_features"
   ]
  },
  {
   "cell_type": "code",
   "execution_count": 11,
   "id": "cff6f2a3-de7f-4898-9b10-4ded3cb3ac2f",
   "metadata": {},
   "outputs": [],
   "source": [
    "def get_datetime_features(df):\n",
    "    df_res = df.copy()\n",
    "    df_res['due_datetime'] = pd.to_datetime(df_res['due'])\n",
    "    df_res['month'] = df_res['due_datetime'].dt.month\n",
    "    df_res['day'] = df_res['due_datetime'].dt.day\n",
    "    df_res['weekday'] = df_res['due_datetime'].dt.weekday\n",
    "    df_res['is_weekend'] = df_res.apply(lambda row: 1 if  row['weekday'] > 4\\\n",
    "                                           else 0, axis=1)\n",
    "    df_res['hour'] = df_res['due_datetime'].dt.hour\n",
    "    df_res['day_period'] = (df_res['hour'] % 24 + 4) // 4\n",
    "    \n",
    "    df_res['time_as_str'] = df_res['due'].apply(lambda x: x[x.find(' ') + 1:-4])\n",
    "    df_res['due_timedelta'] = pd.to_timedelta(df_res['time_as_str'])\n",
    "    df_res['total_seconds'] = df_res['due_timedelta'].dt.total_seconds()\n",
    "    df_res['total_minutes'] = df_res['total_seconds'] // 60\n",
    "    \n",
    "    df_res.drop(['time_as_str', 'due_timedelta', 'due_datetime', 'due'], inplace=True, axis=1)\n",
    "    return df_res  "
   ]
  },
  {
   "cell_type": "code",
   "execution_count": 12,
   "id": "11d15f24-948c-4f4d-95f0-28b0914ed305",
   "metadata": {},
   "outputs": [
    {
     "name": "stdout",
     "output_type": "stream",
     "text": [
      "Wall time: 22.1 s\n"
     ]
    }
   ],
   "source": [
    "%%time \n",
    "\n",
    "df_train1 = get_datetime_features(df_train1)\n",
    "\n",
    "df_train2 = get_datetime_features(df_train2)\n",
    "\n",
    "df_test = get_datetime_features(df_test)"
   ]
  },
  {
   "cell_type": "markdown",
   "id": "b74b8040-d918-4d0d-b359-0e715d3b4e8a",
   "metadata": {},
   "source": [
    "# get_geo_features\n",
    "\n",
    "В тесте есть перепутанные lat lon"
   ]
  },
  {
   "cell_type": "code",
   "execution_count": 13,
   "id": "6ded378f-c6e8-4e89-b0b2-dc3f9c77fd21",
   "metadata": {},
   "outputs": [],
   "source": [
    "def get_geo_features(df, test=False):\n",
    "    df_res = df.copy()\n",
    "    df_res['city'] = 'other'\n",
    "    df_res.loc[df_res['lat'].between(59.4, 60.3) & df_res['lon'].between(29.23, 31.394), 'city'] = 'spb'\n",
    "    df_res.loc[df_res['lat'].between(54.35, 56.7) & df_res['lon'].between(35.05, 39.86), 'city'] = 'moscow'\n",
    "    df_res.loc[df_res['lat'].between(49.68, 52.03) & df_res['lon'].between(37.68, 43.35), 'city'] = 'voronezh'\n",
    "    df_res.loc[df_res['lat'].between(55.95, 56.45) & df_res['lon'].between(43.38, 44.76), 'city'] = 'nnovgorod'\n",
    "    df_res.loc[df_res['lat'].between(55.46, 55.94) & df_res['lon'].between(48.54, 50.06), 'city'] = 'kazan'\n",
    "    \n",
    "    if test:\n",
    "        df_res['lat'], df_res['lon'] = np.where(df_res['city']=='other',\\\n",
    "                                                (df_res['lon'],df_res['lat']),(df_res['lat'],df_res['lon']))\n",
    "        df_res.loc[df_res['lat'].between(59.4, 60.3) & df_res['lon'].between(29.23, 31.394), 'city'] = 'spb'\n",
    "        df_res.loc[df_res['lat'].between(54.35, 56.7) & df_res['lon'].between(35.05, 39.86), 'city'] = 'moscow'\n",
    "        df_res.loc[df_res['lat'].between(49.68, 52.03) & df_res['lon'].between(37.68, 43.35), 'city'] = 'voronezh'\n",
    "        df_res.loc[df_res['lat'].between(55.95, 56.45) & df_res['lon'].between(43.38, 44.76), 'city'] = 'nnovgorod'\n",
    "        df_res.loc[df_res['lat'].between(55.46, 55.94) & df_res['lon'].between(48.54, 50.06), 'city'] = 'kazan'\n",
    "    return df_res  "
   ]
  },
  {
   "cell_type": "code",
   "execution_count": 14,
   "id": "a742f8d2-7040-4d97-8acd-ac9a2589978d",
   "metadata": {},
   "outputs": [
    {
     "name": "stdout",
     "output_type": "stream",
     "text": [
      "Wall time: 266 ms\n"
     ]
    }
   ],
   "source": [
    "%%time\n",
    "\n",
    "df_train1 = get_geo_features(df_train1)\n",
    "df_train2 = get_geo_features(df_train2)\n",
    "df_test = get_geo_features(df_test, test=True)"
   ]
  },
  {
   "cell_type": "markdown",
   "id": "a98eba66-ff6b-49f2-b62f-42d8cac9b01f",
   "metadata": {},
   "source": [
    "# find_almost_duplicates"
   ]
  },
  {
   "cell_type": "code",
   "execution_count": 15,
   "id": "c7a0bba5-e451-4cb7-a5a1-35157a79a550",
   "metadata": {},
   "outputs": [],
   "source": [
    "# предварительно отсортировать данные\n",
    "def find_almost_dupclicates(df):\n",
    "    df_res = df.copy()\n",
    "    df_res['lat_lon_duplicated'] = df_res.duplicated(subset=['lat', 'lon'], keep='last')\n",
    "    df_res['dist_lat_lon_duplicated'] = df_res.duplicated(subset=['dist', 'lat', 'lon'], keep='last')\n",
    "    df_res['dist_lat_lon_classes_duplicated'] = df_res.duplicated(subset=['dist', 'lat', 'lon', 'f_class','s_class','t_class'], keep='last')\n",
    "    df_res['day_lat_lon_duplicated'] = df_res.duplicated(subset=['month', 'day', 'lat', 'lon'], keep='last')\n",
    "    df_res['dayperiod_lat_lon_duplicated'] = df_res.duplicated(subset=['month', 'day','day_period', 'lat', 'lon'], keep='last')\n",
    "    df_res['hour_lat_lon_duplicated'] = df_res.duplicated(subset=['month', 'day','hour', 'lat', 'lon'], keep='last')\n",
    "    df_res['minutes_lat_lon_duplicated'] = df_res.duplicated(subset=['month', 'day','total_minutes', 'lat', 'lon'], keep='last')\n",
    "    df_res['dist_day_lat_lon_duplicated'] = df_res.duplicated(subset=['dist','month', 'day', 'lat', 'lon'], keep='last')\n",
    "    df_res['dist_dayperiod_lat_lon_duplicated'] = df_res.duplicated(subset=['dist','month', 'day','day_period', 'lat', 'lon'], keep='last')\n",
    "    df_res['dist_hour_lat_lon_duplicated'] = df_res.duplicated(subset=['dist','month', 'day','hour', 'lat', 'lon'], keep='last')\n",
    "    return df_res"
   ]
  },
  {
   "cell_type": "code",
   "execution_count": 16,
   "id": "ab8f6358-8de3-4ecf-9d63-20c3169e12c3",
   "metadata": {},
   "outputs": [],
   "source": [
    "df_train1 = find_almost_dupclicates(df_train1)\n",
    "df_train2 = find_almost_dupclicates(df_train2)\n",
    "df_test = find_almost_dupclicates(df_test)"
   ]
  },
  {
   "cell_type": "markdown",
   "id": "6a535cec-fc0a-43f8-a8a8-75a1a858ec90",
   "metadata": {},
   "source": [
    "# Шафлим train1 b train2, восстанавливем порядок  test"
   ]
  },
  {
   "cell_type": "code",
   "execution_count": 17,
   "id": "7a7d7dc0-cefd-4d35-85a6-9bfee43db9c8",
   "metadata": {},
   "outputs": [
    {
     "data": {
      "text/html": [
       "<div>\n",
       "<style scoped>\n",
       "    .dataframe tbody tr th:only-of-type {\n",
       "        vertical-align: middle;\n",
       "    }\n",
       "\n",
       "    .dataframe tbody tr th {\n",
       "        vertical-align: top;\n",
       "    }\n",
       "\n",
       "    .dataframe thead th {\n",
       "        text-align: right;\n",
       "    }\n",
       "</style>\n",
       "<table border=\"1\" class=\"dataframe\">\n",
       "  <thead>\n",
       "    <tr style=\"text-align: right;\">\n",
       "      <th></th>\n",
       "      <th>dist</th>\n",
       "      <th>f_class</th>\n",
       "      <th>lat</th>\n",
       "      <th>lon</th>\n",
       "      <th>s_class</th>\n",
       "      <th>t_class</th>\n",
       "      <th>dist_to_MOSCOW</th>\n",
       "      <th>dist_to_SPB</th>\n",
       "      <th>dist_to_KAZAN</th>\n",
       "      <th>dist_to_N_NOVGOROD</th>\n",
       "      <th>...</th>\n",
       "      <th>lat_lon_duplicated</th>\n",
       "      <th>dist_lat_lon_duplicated</th>\n",
       "      <th>dist_lat_lon_classes_duplicated</th>\n",
       "      <th>day_lat_lon_duplicated</th>\n",
       "      <th>dayperiod_lat_lon_duplicated</th>\n",
       "      <th>hour_lat_lon_duplicated</th>\n",
       "      <th>minutes_lat_lon_duplicated</th>\n",
       "      <th>dist_day_lat_lon_duplicated</th>\n",
       "      <th>dist_dayperiod_lat_lon_duplicated</th>\n",
       "      <th>dist_hour_lat_lon_duplicated</th>\n",
       "    </tr>\n",
       "  </thead>\n",
       "  <tbody>\n",
       "    <tr>\n",
       "      <th>0</th>\n",
       "      <td>4611.506701</td>\n",
       "      <td>econom</td>\n",
       "      <td>55.776618</td>\n",
       "      <td>37.682503</td>\n",
       "      <td>NaN</td>\n",
       "      <td>NaN</td>\n",
       "      <td>0.068440</td>\n",
       "      <td>8.442187</td>\n",
       "      <td>11.383706</td>\n",
       "      <td>6.347375</td>\n",
       "      <td>...</td>\n",
       "      <td>False</td>\n",
       "      <td>False</td>\n",
       "      <td>False</td>\n",
       "      <td>False</td>\n",
       "      <td>False</td>\n",
       "      <td>False</td>\n",
       "      <td>False</td>\n",
       "      <td>False</td>\n",
       "      <td>False</td>\n",
       "      <td>False</td>\n",
       "    </tr>\n",
       "    <tr>\n",
       "      <th>1</th>\n",
       "      <td>14450.067441</td>\n",
       "      <td>econom</td>\n",
       "      <td>55.754659</td>\n",
       "      <td>37.810072</td>\n",
       "      <td>NaN</td>\n",
       "      <td>NaN</td>\n",
       "      <td>0.192778</td>\n",
       "      <td>8.564138</td>\n",
       "      <td>11.256265</td>\n",
       "      <td>6.222276</td>\n",
       "      <td>...</td>\n",
       "      <td>True</td>\n",
       "      <td>False</td>\n",
       "      <td>False</td>\n",
       "      <td>False</td>\n",
       "      <td>False</td>\n",
       "      <td>False</td>\n",
       "      <td>False</td>\n",
       "      <td>False</td>\n",
       "      <td>False</td>\n",
       "      <td>False</td>\n",
       "    </tr>\n",
       "    <tr>\n",
       "      <th>2</th>\n",
       "      <td>17755.993723</td>\n",
       "      <td>business</td>\n",
       "      <td>55.726141</td>\n",
       "      <td>37.587407</td>\n",
       "      <td>NaN</td>\n",
       "      <td>NaN</td>\n",
       "      <td>0.042127</td>\n",
       "      <td>8.384773</td>\n",
       "      <td>11.479149</td>\n",
       "      <td>6.446626</td>\n",
       "      <td>...</td>\n",
       "      <td>False</td>\n",
       "      <td>False</td>\n",
       "      <td>False</td>\n",
       "      <td>False</td>\n",
       "      <td>False</td>\n",
       "      <td>False</td>\n",
       "      <td>False</td>\n",
       "      <td>False</td>\n",
       "      <td>False</td>\n",
       "      <td>False</td>\n",
       "    </tr>\n",
       "    <tr>\n",
       "      <th>3</th>\n",
       "      <td>8533.172059</td>\n",
       "      <td>econom</td>\n",
       "      <td>55.794178</td>\n",
       "      <td>37.576456</td>\n",
       "      <td>business</td>\n",
       "      <td>NaN</td>\n",
       "      <td>0.056027</td>\n",
       "      <td>8.341325</td>\n",
       "      <td>11.489683</td>\n",
       "      <td>6.451556</td>\n",
       "      <td>...</td>\n",
       "      <td>True</td>\n",
       "      <td>False</td>\n",
       "      <td>False</td>\n",
       "      <td>False</td>\n",
       "      <td>False</td>\n",
       "      <td>False</td>\n",
       "      <td>False</td>\n",
       "      <td>False</td>\n",
       "      <td>False</td>\n",
       "      <td>False</td>\n",
       "    </tr>\n",
       "    <tr>\n",
       "      <th>4</th>\n",
       "      <td>-1.000000</td>\n",
       "      <td>econom</td>\n",
       "      <td>55.757409</td>\n",
       "      <td>37.542186</td>\n",
       "      <td>business</td>\n",
       "      <td>NaN</td>\n",
       "      <td>0.075129</td>\n",
       "      <td>8.329968</td>\n",
       "      <td>11.524127</td>\n",
       "      <td>6.488832</td>\n",
       "      <td>...</td>\n",
       "      <td>True</td>\n",
       "      <td>True</td>\n",
       "      <td>False</td>\n",
       "      <td>False</td>\n",
       "      <td>False</td>\n",
       "      <td>False</td>\n",
       "      <td>False</td>\n",
       "      <td>False</td>\n",
       "      <td>False</td>\n",
       "      <td>False</td>\n",
       "    </tr>\n",
       "  </tbody>\n",
       "</table>\n",
       "<p>5 rows × 31 columns</p>\n",
       "</div>"
      ],
      "text/plain": [
       "           dist   f_class        lat        lon   s_class t_class  \\\n",
       "0   4611.506701    econom  55.776618  37.682503       NaN     NaN   \n",
       "1  14450.067441    econom  55.754659  37.810072       NaN     NaN   \n",
       "2  17755.993723  business  55.726141  37.587407       NaN     NaN   \n",
       "3   8533.172059    econom  55.794178  37.576456  business     NaN   \n",
       "4     -1.000000    econom  55.757409  37.542186  business     NaN   \n",
       "\n",
       "   dist_to_MOSCOW  dist_to_SPB  dist_to_KAZAN  dist_to_N_NOVGOROD  ...  \\\n",
       "0        0.068440     8.442187      11.383706            6.347375  ...   \n",
       "1        0.192778     8.564138      11.256265            6.222276  ...   \n",
       "2        0.042127     8.384773      11.479149            6.446626  ...   \n",
       "3        0.056027     8.341325      11.489683            6.451556  ...   \n",
       "4        0.075129     8.329968      11.524127            6.488832  ...   \n",
       "\n",
       "   lat_lon_duplicated  dist_lat_lon_duplicated  \\\n",
       "0               False                    False   \n",
       "1                True                    False   \n",
       "2               False                    False   \n",
       "3                True                    False   \n",
       "4                True                     True   \n",
       "\n",
       "   dist_lat_lon_classes_duplicated  day_lat_lon_duplicated  \\\n",
       "0                            False                   False   \n",
       "1                            False                   False   \n",
       "2                            False                   False   \n",
       "3                            False                   False   \n",
       "4                            False                   False   \n",
       "\n",
       "   dayperiod_lat_lon_duplicated  hour_lat_lon_duplicated  \\\n",
       "0                         False                    False   \n",
       "1                         False                    False   \n",
       "2                         False                    False   \n",
       "3                         False                    False   \n",
       "4                         False                    False   \n",
       "\n",
       "   minutes_lat_lon_duplicated  dist_day_lat_lon_duplicated  \\\n",
       "0                       False                        False   \n",
       "1                       False                        False   \n",
       "2                       False                        False   \n",
       "3                       False                        False   \n",
       "4                       False                        False   \n",
       "\n",
       "   dist_dayperiod_lat_lon_duplicated  dist_hour_lat_lon_duplicated  \n",
       "0                              False                         False  \n",
       "1                              False                         False  \n",
       "2                              False                         False  \n",
       "3                              False                         False  \n",
       "4                              False                         False  \n",
       "\n",
       "[5 rows x 31 columns]"
      ]
     },
     "execution_count": 17,
     "metadata": {},
     "output_type": "execute_result"
    }
   ],
   "source": [
    "df_train1 = df_train1.sample(frac=1, random_state=42)\n",
    "df_train2 = df_train2.sample(frac=1, random_state=42)\n",
    "df_test = df_test.sort_index()\n",
    "df_test.head()"
   ]
  },
  {
   "cell_type": "markdown",
   "id": "dff26588-3f8d-418f-afdb-e2b3c8a160db",
   "metadata": {},
   "source": [
    "# Избавляемся от нанов"
   ]
  },
  {
   "cell_type": "code",
   "execution_count": 18,
   "id": "e2f24a1d-7d18-4f79-b938-a3f1cbc29654",
   "metadata": {},
   "outputs": [],
   "source": [
    "cols_to_fill_newcat1 = ['f_class', 's_class', 't_class']"
   ]
  },
  {
   "cell_type": "code",
   "execution_count": 19,
   "id": "889a78ea-381b-485c-8f9b-29714ae7a251",
   "metadata": {},
   "outputs": [],
   "source": [
    "from sklearn.impute import SimpleImputer\n",
    "\n",
    "imp = SimpleImputer(strategy='constant', fill_value='unknown')\n",
    "\n",
    "to_fill_train1 = np.array(df_train1[cols_to_fill_newcat1])\n",
    "fill_result_train = imp.fit_transform(to_fill_train1)\n",
    "df_train1[cols_to_fill_newcat1] = fill_result_train\n",
    "\n",
    "to_fill_train2 = np.array(df_train2[cols_to_fill_newcat1])\n",
    "fill_result_train = imp.transform(to_fill_train2)\n",
    "df_train2[cols_to_fill_newcat1] = fill_result_train\n",
    "\n",
    "to_fill_test = np.array(df_test[cols_to_fill_newcat1])\n",
    "fill_result_test = imp.transform(to_fill_test)\n",
    "df_test[cols_to_fill_newcat1] = fill_result_test"
   ]
  },
  {
   "cell_type": "code",
   "execution_count": 20,
   "id": "d3d49036-da51-463c-aba9-1f445e177a38",
   "metadata": {},
   "outputs": [],
   "source": [
    "def is_feature(df, val_cols, cat_cols):\n",
    "    df_res = df.copy()\n",
    "    for col in val_cols:\n",
    "        df_res[f'is_{col}'] = (df_res[col] != -1.0).astype(int)\n",
    "    for col in cat_cols:\n",
    "        df_res[f'is_{col}'] = (df_res[col] != 'unknown').astype(int)\n",
    "    return df_res"
   ]
  },
  {
   "cell_type": "code",
   "execution_count": 21,
   "id": "59b094d9-8f51-49cb-84b1-adf33e897b1f",
   "metadata": {},
   "outputs": [],
   "source": [
    "val_cols =  ['dist']\n",
    "cat_cols = ['f_class', 's_class', 't_class']\n",
    "df_train1 = is_feature(df_train1, val_cols, cat_cols)\n",
    "df_train2 = is_feature(df_train2, val_cols, cat_cols)\n",
    "df_test = is_feature(df_test, val_cols, cat_cols)"
   ]
  },
  {
   "cell_type": "markdown",
   "id": "66915808-95d7-46d1-ba57-67e2932ad52b",
   "metadata": {},
   "source": [
    "# Encoding"
   ]
  },
  {
   "cell_type": "code",
   "execution_count": 22,
   "id": "a8dfa6cd-fb5b-4d52-b468-b80aa029066a",
   "metadata": {},
   "outputs": [],
   "source": [
    "y_train1 = np.array(df_train1['target'])\n",
    "y_train2 = np.array(df_train2['target'])\n",
    "\n",
    "df_train1.drop(['target'], axis=1, inplace=True)\n",
    "df_train2.drop(['target'], axis=1, inplace=True)"
   ]
  },
  {
   "cell_type": "code",
   "execution_count": 23,
   "id": "be8a8931-656d-4e41-8556-8ec839223e28",
   "metadata": {},
   "outputs": [
    {
     "name": "stdout",
     "output_type": "stream",
     "text": [
      "(771849, 35)\n",
      "(415612, 35)\n",
      "(510937, 35)\n"
     ]
    },
    {
     "data": {
      "text/html": [
       "<div>\n",
       "<style scoped>\n",
       "    .dataframe tbody tr th:only-of-type {\n",
       "        vertical-align: middle;\n",
       "    }\n",
       "\n",
       "    .dataframe tbody tr th {\n",
       "        vertical-align: top;\n",
       "    }\n",
       "\n",
       "    .dataframe thead th {\n",
       "        text-align: right;\n",
       "    }\n",
       "</style>\n",
       "<table border=\"1\" class=\"dataframe\">\n",
       "  <thead>\n",
       "    <tr style=\"text-align: right;\">\n",
       "      <th></th>\n",
       "      <th>dist</th>\n",
       "      <th>f_class</th>\n",
       "      <th>lat</th>\n",
       "      <th>lon</th>\n",
       "      <th>s_class</th>\n",
       "      <th>t_class</th>\n",
       "      <th>dist_to_MOSCOW</th>\n",
       "      <th>dist_to_SPB</th>\n",
       "      <th>dist_to_KAZAN</th>\n",
       "      <th>dist_to_N_NOVGOROD</th>\n",
       "      <th>...</th>\n",
       "      <th>dayperiod_lat_lon_duplicated</th>\n",
       "      <th>hour_lat_lon_duplicated</th>\n",
       "      <th>minutes_lat_lon_duplicated</th>\n",
       "      <th>dist_day_lat_lon_duplicated</th>\n",
       "      <th>dist_dayperiod_lat_lon_duplicated</th>\n",
       "      <th>dist_hour_lat_lon_duplicated</th>\n",
       "      <th>is_dist</th>\n",
       "      <th>is_f_class</th>\n",
       "      <th>is_s_class</th>\n",
       "      <th>is_t_class</th>\n",
       "    </tr>\n",
       "  </thead>\n",
       "  <tbody>\n",
       "    <tr>\n",
       "      <th>542270</th>\n",
       "      <td>5886.477713</td>\n",
       "      <td>1</td>\n",
       "      <td>55.717234</td>\n",
       "      <td>37.573968</td>\n",
       "      <td>1</td>\n",
       "      <td>1</td>\n",
       "      <td>0.058024</td>\n",
       "      <td>8.377632</td>\n",
       "      <td>11.492671</td>\n",
       "      <td>6.460840</td>\n",
       "      <td>...</td>\n",
       "      <td>False</td>\n",
       "      <td>False</td>\n",
       "      <td>False</td>\n",
       "      <td>False</td>\n",
       "      <td>False</td>\n",
       "      <td>False</td>\n",
       "      <td>1</td>\n",
       "      <td>1</td>\n",
       "      <td>1</td>\n",
       "      <td>0</td>\n",
       "    </tr>\n",
       "    <tr>\n",
       "      <th>761710</th>\n",
       "      <td>6652.789356</td>\n",
       "      <td>2</td>\n",
       "      <td>59.938045</td>\n",
       "      <td>30.395674</td>\n",
       "      <td>2</td>\n",
       "      <td>1</td>\n",
       "      <td>8.345227</td>\n",
       "      <td>0.060693</td>\n",
       "      <td>19.116920</td>\n",
       "      <td>14.081258</td>\n",
       "      <td>...</td>\n",
       "      <td>False</td>\n",
       "      <td>False</td>\n",
       "      <td>False</td>\n",
       "      <td>False</td>\n",
       "      <td>False</td>\n",
       "      <td>False</td>\n",
       "      <td>1</td>\n",
       "      <td>1</td>\n",
       "      <td>0</td>\n",
       "      <td>0</td>\n",
       "    </tr>\n",
       "    <tr>\n",
       "      <th>1063727</th>\n",
       "      <td>4457.823163</td>\n",
       "      <td>1</td>\n",
       "      <td>55.813693</td>\n",
       "      <td>37.643273</td>\n",
       "      <td>2</td>\n",
       "      <td>1</td>\n",
       "      <td>0.063430</td>\n",
       "      <td>8.389795</td>\n",
       "      <td>11.422821</td>\n",
       "      <td>6.383371</td>\n",
       "      <td>...</td>\n",
       "      <td>False</td>\n",
       "      <td>False</td>\n",
       "      <td>False</td>\n",
       "      <td>False</td>\n",
       "      <td>False</td>\n",
       "      <td>False</td>\n",
       "      <td>1</td>\n",
       "      <td>1</td>\n",
       "      <td>0</td>\n",
       "      <td>0</td>\n",
       "    </tr>\n",
       "    <tr>\n",
       "      <th>1061338</th>\n",
       "      <td>12991.855714</td>\n",
       "      <td>1</td>\n",
       "      <td>55.810840</td>\n",
       "      <td>37.405992</td>\n",
       "      <td>2</td>\n",
       "      <td>1</td>\n",
       "      <td>0.218350</td>\n",
       "      <td>8.185371</td>\n",
       "      <td>11.660106</td>\n",
       "      <td>6.620133</td>\n",
       "      <td>...</td>\n",
       "      <td>False</td>\n",
       "      <td>False</td>\n",
       "      <td>False</td>\n",
       "      <td>False</td>\n",
       "      <td>False</td>\n",
       "      <td>False</td>\n",
       "      <td>1</td>\n",
       "      <td>1</td>\n",
       "      <td>0</td>\n",
       "      <td>0</td>\n",
       "    </tr>\n",
       "    <tr>\n",
       "      <th>613192</th>\n",
       "      <td>10690.212715</td>\n",
       "      <td>1</td>\n",
       "      <td>55.652281</td>\n",
       "      <td>37.561353</td>\n",
       "      <td>2</td>\n",
       "      <td>1</td>\n",
       "      <td>0.117692</td>\n",
       "      <td>8.399659</td>\n",
       "      <td>11.506109</td>\n",
       "      <td>6.479838</td>\n",
       "      <td>...</td>\n",
       "      <td>False</td>\n",
       "      <td>False</td>\n",
       "      <td>False</td>\n",
       "      <td>False</td>\n",
       "      <td>False</td>\n",
       "      <td>False</td>\n",
       "      <td>1</td>\n",
       "      <td>1</td>\n",
       "      <td>0</td>\n",
       "      <td>0</td>\n",
       "    </tr>\n",
       "  </tbody>\n",
       "</table>\n",
       "<p>5 rows × 35 columns</p>\n",
       "</div>"
      ],
      "text/plain": [
       "                 dist  f_class        lat        lon  s_class  t_class  \\\n",
       "542270    5886.477713        1  55.717234  37.573968        1        1   \n",
       "761710    6652.789356        2  59.938045  30.395674        2        1   \n",
       "1063727   4457.823163        1  55.813693  37.643273        2        1   \n",
       "1061338  12991.855714        1  55.810840  37.405992        2        1   \n",
       "613192   10690.212715        1  55.652281  37.561353        2        1   \n",
       "\n",
       "         dist_to_MOSCOW  dist_to_SPB  dist_to_KAZAN  dist_to_N_NOVGOROD  ...  \\\n",
       "542270         0.058024     8.377632      11.492671            6.460840  ...   \n",
       "761710         8.345227     0.060693      19.116920           14.081258  ...   \n",
       "1063727        0.063430     8.389795      11.422821            6.383371  ...   \n",
       "1061338        0.218350     8.185371      11.660106            6.620133  ...   \n",
       "613192         0.117692     8.399659      11.506109            6.479838  ...   \n",
       "\n",
       "         dayperiod_lat_lon_duplicated  hour_lat_lon_duplicated  \\\n",
       "542270                          False                    False   \n",
       "761710                          False                    False   \n",
       "1063727                         False                    False   \n",
       "1061338                         False                    False   \n",
       "613192                          False                    False   \n",
       "\n",
       "         minutes_lat_lon_duplicated  dist_day_lat_lon_duplicated  \\\n",
       "542270                        False                        False   \n",
       "761710                        False                        False   \n",
       "1063727                       False                        False   \n",
       "1061338                       False                        False   \n",
       "613192                        False                        False   \n",
       "\n",
       "         dist_dayperiod_lat_lon_duplicated  dist_hour_lat_lon_duplicated  \\\n",
       "542270                               False                         False   \n",
       "761710                               False                         False   \n",
       "1063727                              False                         False   \n",
       "1061338                              False                         False   \n",
       "613192                               False                         False   \n",
       "\n",
       "         is_dist  is_f_class  is_s_class  is_t_class  \n",
       "542270         1           1           1           0  \n",
       "761710         1           1           0           0  \n",
       "1063727        1           1           0           0  \n",
       "1061338        1           1           0           0  \n",
       "613192         1           1           0           0  \n",
       "\n",
       "[5 rows x 35 columns]"
      ]
     },
     "execution_count": 23,
     "metadata": {},
     "output_type": "execute_result"
    }
   ],
   "source": [
    "from category_encoders import OrdinalEncoder\n",
    "\n",
    "cat_columns = list(df_train1.select_dtypes('object').columns)\n",
    "encoder = OrdinalEncoder(cols = cat_columns)\n",
    "\n",
    "df_train1_encoded = encoder.fit_transform(df_train1)\n",
    "df_train2_encoded = encoder.transform(df_train2)\n",
    "df_test_encoded = encoder.transform(df_test)\n",
    "\n",
    "print(df_train1_encoded.shape)\n",
    "print(df_train2_encoded.shape)\n",
    "print(df_test_encoded.shape)\n",
    "\n",
    "df_train1_encoded.head()"
   ]
  },
  {
   "cell_type": "code",
   "execution_count": 24,
   "id": "89e09e72-17ac-45c0-9861-39ec325ac130",
   "metadata": {},
   "outputs": [
    {
     "data": {
      "text/plain": [
       "Index(['dist', 'f_class', 'lat', 'lon', 's_class', 't_class', 'dist_to_MOSCOW',\n",
       "       'dist_to_SPB', 'dist_to_KAZAN', 'dist_to_N_NOVGOROD',\n",
       "       'dist_to_VORONEZH', 'min_dist_to_city', 'month', 'day', 'weekday',\n",
       "       'is_weekend', 'hour', 'day_period', 'total_seconds', 'total_minutes',\n",
       "       'city', 'lat_lon_duplicated', 'dist_lat_lon_duplicated',\n",
       "       'dist_lat_lon_classes_duplicated', 'day_lat_lon_duplicated',\n",
       "       'dayperiod_lat_lon_duplicated', 'hour_lat_lon_duplicated',\n",
       "       'minutes_lat_lon_duplicated', 'dist_day_lat_lon_duplicated',\n",
       "       'dist_dayperiod_lat_lon_duplicated', 'dist_hour_lat_lon_duplicated',\n",
       "       'is_dist', 'is_f_class', 'is_s_class', 'is_t_class'],\n",
       "      dtype='object')"
      ]
     },
     "execution_count": 24,
     "metadata": {},
     "output_type": "execute_result"
    }
   ],
   "source": [
    "df_train1_encoded.columns"
   ]
  },
  {
   "cell_type": "markdown",
   "id": "f3a34879-afbd-4859-abb7-9493e79f0835",
   "metadata": {},
   "source": [
    "# Creating model\n",
    "\n",
    "Модель следующая:\n",
    "\n",
    "* Метапризнаки из двух отличающихся LGBMRegressor\n",
    "* Метапризнаки из двух отличающихся CatBoostRegressor\n",
    "* Метапризнаки из двух отличающихся RandomForestRegressor\n",
    "* На метапризнаках обучаем CatBoostClassifier."
   ]
  },
  {
   "cell_type": "code",
   "execution_count": 25,
   "id": "cc544c53-bcef-414e-a949-3d1789ab7d95",
   "metadata": {},
   "outputs": [
    {
     "name": "stdout",
     "output_type": "stream",
     "text": [
      "Train1 shape : (771849, 35)\n",
      "Train2 shape : (415612, 35)\n",
      "Test shape : (510937, 35)\n"
     ]
    }
   ],
   "source": [
    "X_train1 = np.array(df_train1_encoded)\n",
    "X_train2 = np.array(df_train2_encoded)\n",
    "X_test = np.array(df_test_encoded)\n",
    "\n",
    "\n",
    "print(f'Train1 shape : {X_train1.shape}')\n",
    "print(f'Train2 shape : {X_train2.shape}')\n",
    "print(f'Test shape : {X_test.shape}')"
   ]
  },
  {
   "cell_type": "markdown",
   "id": "834325f4-bd22-496f-be91-6b78526dec7e",
   "metadata": {},
   "source": [
    "## LGBMRegressor 1"
   ]
  },
  {
   "cell_type": "code",
   "execution_count": 26,
   "id": "8054690e-9344-4b3f-83f6-aae8e888020e",
   "metadata": {},
   "outputs": [
    {
     "name": "stdout",
     "output_type": "stream",
     "text": [
      "Wall time: 21.2 s\n"
     ]
    },
    {
     "data": {
      "text/plain": [
       "LGBMRegressor(max_depth=7, n_estimators=1000, random_state=30)"
      ]
     },
     "execution_count": 26,
     "metadata": {},
     "output_type": "execute_result"
    }
   ],
   "source": [
    "%%time\n",
    "\n",
    "from lightgbm import LGBMRegressor\n",
    "\n",
    "model = LGBMRegressor(max_depth=7, learning_rate=0.1, n_estimators=1000, random_state=30)\n",
    "model.fit(X_train1, y_train1)"
   ]
  },
  {
   "cell_type": "code",
   "execution_count": 27,
   "id": "bb8ad160-8089-469a-8ba1-55c3196bf116",
   "metadata": {},
   "outputs": [],
   "source": [
    "lgbm1_train2_preds = model.predict(X_train2)\n",
    "lgbm1_test_preds = model.predict(X_test)"
   ]
  },
  {
   "cell_type": "markdown",
   "id": "0dcee4dc-743b-48ed-9b81-d8624dbda628",
   "metadata": {},
   "source": [
    "## LGBMRegressor 2"
   ]
  },
  {
   "cell_type": "code",
   "execution_count": 28,
   "id": "6c58b202-076e-4584-9c79-49d9be7f3f87",
   "metadata": {},
   "outputs": [
    {
     "name": "stdout",
     "output_type": "stream",
     "text": [
      "Wall time: 23.7 s\n"
     ]
    },
    {
     "data": {
      "text/plain": [
       "LGBMRegressor(max_depth=5, n_estimators=1000, random_state=42)"
      ]
     },
     "execution_count": 28,
     "metadata": {},
     "output_type": "execute_result"
    }
   ],
   "source": [
    "%%time\n",
    "\n",
    "from lightgbm import LGBMRegressor\n",
    "\n",
    "model = LGBMRegressor(max_depth=5, learning_rate=0.1, n_estimators=1000, random_state=42)\n",
    "model.fit(X_train1, y_train1)"
   ]
  },
  {
   "cell_type": "code",
   "execution_count": 29,
   "id": "debd70a6-5be6-457b-99de-5c2d9a8a053e",
   "metadata": {},
   "outputs": [],
   "source": [
    "lgbm2_train2_preds = model.predict(X_train2)\n",
    "lgbm2_test_preds = model.predict(X_test)"
   ]
  },
  {
   "cell_type": "markdown",
   "id": "7ee831f1-b50b-4d84-9c7c-d0ee1603193b",
   "metadata": {},
   "source": [
    "## CatBoostRegressor 1"
   ]
  },
  {
   "cell_type": "code",
   "execution_count": 30,
   "id": "62243dde-37bc-49ca-8546-0d3ceaf2d3e7",
   "metadata": {},
   "outputs": [
    {
     "name": "stdout",
     "output_type": "stream",
     "text": [
      "Wall time: 1min 35s\n"
     ]
    },
    {
     "data": {
      "text/plain": [
       "<catboost.core.CatBoostRegressor at 0x21055618b50>"
      ]
     },
     "execution_count": 30,
     "metadata": {},
     "output_type": "execute_result"
    }
   ],
   "source": [
    "%%time\n",
    "\n",
    "from catboost import CatBoostRegressor\n",
    "\n",
    "model = CatBoostRegressor(iterations=1000,\n",
    "                            loss_function = 'RMSE',\n",
    "                            task_type=\"CPU\",\n",
    "                            max_depth=6,\n",
    "                            learning_rate= 0.1,\n",
    "                            random_state=1,\n",
    "                            silent=True\n",
    "                          )\n",
    "\n",
    "model.fit(X = X_train1, y = y_train1)"
   ]
  },
  {
   "cell_type": "code",
   "execution_count": 31,
   "id": "082ff7fd-c39b-4db2-84ad-333bbd452c05",
   "metadata": {},
   "outputs": [],
   "source": [
    "cb1_train2_preds = model.predict(X_train2)\n",
    "cb1_test_preds = model.predict(X_test)"
   ]
  },
  {
   "cell_type": "markdown",
   "id": "94756a78-7b45-4d9b-b619-1176a17a6e09",
   "metadata": {},
   "source": [
    "## CatBoostRegressor 2"
   ]
  },
  {
   "cell_type": "code",
   "execution_count": 32,
   "id": "2c987a89-a462-4c89-893e-2cbfe56fa44e",
   "metadata": {},
   "outputs": [
    {
     "name": "stdout",
     "output_type": "stream",
     "text": [
      "Wall time: 7min 25s\n"
     ]
    },
    {
     "data": {
      "text/plain": [
       "<catboost.core.CatBoostRegressor at 0x21055618730>"
      ]
     },
     "execution_count": 32,
     "metadata": {},
     "output_type": "execute_result"
    }
   ],
   "source": [
    "%%time\n",
    "\n",
    "from catboost import CatBoostRegressor\n",
    "\n",
    "model = CatBoostRegressor(iterations=1000,\n",
    "                            loss_function = 'MAE',\n",
    "                            task_type=\"CPU\",\n",
    "                            max_depth=10,\n",
    "                            learning_rate= 0.1,\n",
    "                            random_state=50,\n",
    "                            silent=True\n",
    "                          )\n",
    "\n",
    "model.fit(X = X_train1, y = y_train1)"
   ]
  },
  {
   "cell_type": "code",
   "execution_count": 33,
   "id": "f1bf3c21-8e77-4054-93c8-19fc97cb7c32",
   "metadata": {},
   "outputs": [],
   "source": [
    "cb2_train2_preds = model.predict(X_train2)\n",
    "cb2_test_preds = model.predict(X_test)"
   ]
  },
  {
   "cell_type": "markdown",
   "id": "39656b36-a562-4704-867d-f7c43363a4b2",
   "metadata": {},
   "source": [
    "## RandomForestRegressor 1"
   ]
  },
  {
   "cell_type": "code",
   "execution_count": 34,
   "id": "6c759449-8d0d-4a8f-b1f8-94287f4086a2",
   "metadata": {},
   "outputs": [
    {
     "name": "stdout",
     "output_type": "stream",
     "text": [
      "Wall time: 14min 46s\n"
     ]
    },
    {
     "data": {
      "text/plain": [
       "RandomForestRegressor(n_jobs=-1, random_state=1)"
      ]
     },
     "execution_count": 34,
     "metadata": {},
     "output_type": "execute_result"
    }
   ],
   "source": [
    "%%time\n",
    "\n",
    "from sklearn.ensemble import RandomForestRegressor\n",
    "\n",
    "model = RandomForestRegressor(random_state=1, n_jobs=-1, n_estimators=100, criterion='squared_error')\n",
    "\n",
    "model.fit(X_train1, y_train1)"
   ]
  },
  {
   "cell_type": "code",
   "execution_count": 35,
   "id": "8343e961-4974-4efe-bdb9-888c278bfa21",
   "metadata": {},
   "outputs": [
    {
     "name": "stdout",
     "output_type": "stream",
     "text": [
      "Wall time: 17.4 s\n"
     ]
    }
   ],
   "source": [
    "%%time\n",
    "\n",
    "rf1_train2_preds = model.predict(X_train2)\n",
    "rf1_test_preds = model.predict(X_test)"
   ]
  },
  {
   "cell_type": "markdown",
   "id": "e676f0c5-b2a4-4c14-ae35-67b8766df2ec",
   "metadata": {},
   "source": [
    "## RandomForestRegressor 2"
   ]
  },
  {
   "cell_type": "code",
   "execution_count": 36,
   "id": "a1a1bebd-f68d-4e7b-9644-202b71df9c8f",
   "metadata": {},
   "outputs": [
    {
     "name": "stdout",
     "output_type": "stream",
     "text": [
      "Wall time: 14min 37s\n"
     ]
    },
    {
     "data": {
      "text/plain": [
       "RandomForestRegressor(n_jobs=-1, random_state=20)"
      ]
     },
     "execution_count": 36,
     "metadata": {},
     "output_type": "execute_result"
    }
   ],
   "source": [
    "%%time\n",
    "\n",
    "from sklearn.ensemble import RandomForestRegressor\n",
    "\n",
    "model = RandomForestRegressor(random_state=20, n_jobs=-1, n_estimators=100, criterion='squared_error')\n",
    "\n",
    "model.fit(X_train1, y_train1)"
   ]
  },
  {
   "cell_type": "code",
   "execution_count": 37,
   "id": "b72aa8fc-8dda-4eec-b947-be0d2d911d12",
   "metadata": {},
   "outputs": [
    {
     "name": "stdout",
     "output_type": "stream",
     "text": [
      "Wall time: 17.9 s\n"
     ]
    }
   ],
   "source": [
    "%%time\n",
    "\n",
    "rf2_train2_preds = model.predict(X_train2)\n",
    "rf2_test_preds = model.predict(X_test)"
   ]
  },
  {
   "cell_type": "markdown",
   "id": "bf14d514-d264-465f-8ea6-c226b4405058",
   "metadata": {},
   "source": [
    "## Blender"
   ]
  },
  {
   "cell_type": "code",
   "execution_count": 54,
   "id": "6d30a208-35d5-4516-8cfd-381ef3df51e2",
   "metadata": {},
   "outputs": [],
   "source": [
    "X_train2_new = np.vstack((lgbm1_train2_preds, lgbm2_train2_preds,\\\n",
    "                          cb1_train2_preds, cb2_train2_preds,\\\n",
    "                          rf1_train2_preds, rf2_train2_preds)).T\n",
    "\n",
    "X_test_new =  np.vstack((lgbm1_test_preds, lgbm2_test_preds,\\\n",
    "                         cb1_test_preds, cb2_test_preds,\\\n",
    "                        rf1_test_preds, rf2_test_preds)).T"
   ]
  },
  {
   "cell_type": "code",
   "execution_count": 52,
   "id": "acc3f12f-7f79-4974-9106-b88b5e27a757",
   "metadata": {},
   "outputs": [
    {
     "name": "stdout",
     "output_type": "stream",
     "text": [
      "0:\tlearn: 0.6848816\ttotal: 79.1ms\tremaining: 23.6s\n",
      "100:\tlearn: 0.3827569\ttotal: 8.97s\tremaining: 17.7s\n",
      "200:\tlearn: 0.3538471\ttotal: 18s\tremaining: 8.85s\n",
      "299:\tlearn: 0.3501091\ttotal: 26.7s\tremaining: 0us\n"
     ]
    },
    {
     "data": {
      "text/plain": [
       "<catboost.core.CatBoostClassifier at 0x21006ee8dc0>"
      ]
     },
     "execution_count": 52,
     "metadata": {},
     "output_type": "execute_result"
    }
   ],
   "source": [
    "from catboost import CatBoostClassifier\n",
    "\n",
    "model = CatBoostClassifier(iterations=300,\n",
    "                          loss_function = 'Logloss',\n",
    "                          task_type=\"CPU\",\n",
    "                           max_depth=7,\n",
    "                            learning_rate= 0.01,\n",
    "                           random_state=1\n",
    "                          )\n",
    "\n",
    "model.fit(X = X_train2_new,\n",
    "          y = y_train2, \n",
    "          verbose = 100,\n",
    "          early_stopping_rounds=50)"
   ]
  },
  {
   "cell_type": "code",
   "execution_count": 53,
   "id": "182e4a85-11b1-4617-b207-1f67fb5a7fee",
   "metadata": {},
   "outputs": [],
   "source": [
    "y_pred = model.predict_proba(X_test_new)[:, 1]"
   ]
  },
  {
   "cell_type": "markdown",
   "id": "a93df375-af07-454b-88c0-157c0b7b5de5",
   "metadata": {},
   "source": [
    "## Result"
   ]
  },
  {
   "cell_type": "code",
   "execution_count": 59,
   "id": "f96ac746-9c3a-41e5-9543-840b19b3268a",
   "metadata": {},
   "outputs": [
    {
     "data": {
      "text/html": [
       "<div>\n",
       "<style scoped>\n",
       "    .dataframe tbody tr th:only-of-type {\n",
       "        vertical-align: middle;\n",
       "    }\n",
       "\n",
       "    .dataframe tbody tr th {\n",
       "        vertical-align: top;\n",
       "    }\n",
       "\n",
       "    .dataframe thead th {\n",
       "        text-align: right;\n",
       "    }\n",
       "</style>\n",
       "<table border=\"1\" class=\"dataframe\">\n",
       "  <thead>\n",
       "    <tr style=\"text-align: right;\">\n",
       "      <th></th>\n",
       "      <th>index</th>\n",
       "      <th>target</th>\n",
       "    </tr>\n",
       "  </thead>\n",
       "  <tbody>\n",
       "    <tr>\n",
       "      <th>0</th>\n",
       "      <td>0</td>\n",
       "      <td>0.590232</td>\n",
       "    </tr>\n",
       "    <tr>\n",
       "      <th>1</th>\n",
       "      <td>1</td>\n",
       "      <td>0.693891</td>\n",
       "    </tr>\n",
       "    <tr>\n",
       "      <th>2</th>\n",
       "      <td>2</td>\n",
       "      <td>0.374479</td>\n",
       "    </tr>\n",
       "    <tr>\n",
       "      <th>3</th>\n",
       "      <td>3</td>\n",
       "      <td>0.319133</td>\n",
       "    </tr>\n",
       "    <tr>\n",
       "      <th>4</th>\n",
       "      <td>4</td>\n",
       "      <td>0.316124</td>\n",
       "    </tr>\n",
       "  </tbody>\n",
       "</table>\n",
       "</div>"
      ],
      "text/plain": [
       "   index    target\n",
       "0      0  0.590232\n",
       "1      1  0.693891\n",
       "2      2  0.374479\n",
       "3      3  0.319133\n",
       "4      4  0.316124"
      ]
     },
     "execution_count": 59,
     "metadata": {},
     "output_type": "execute_result"
    }
   ],
   "source": [
    "submission = pd.read_csv('1_data/sample_submission.csv')\n",
    "submission.head()"
   ]
  },
  {
   "cell_type": "code",
   "execution_count": 60,
   "id": "9735d9b1-8a08-4277-9ec7-9ddd86a3568a",
   "metadata": {},
   "outputs": [],
   "source": [
    "submission['target'] = y_pred\n",
    "submission.to_csv('blender.csv', index=False)"
   ]
  }
 ],
 "metadata": {
  "kernelspec": {
   "display_name": "Python 3 (ipykernel)",
   "language": "python",
   "name": "python3"
  },
  "language_info": {
   "codemirror_mode": {
    "name": "ipython",
    "version": 3
   },
   "file_extension": ".py",
   "mimetype": "text/x-python",
   "name": "python",
   "nbconvert_exporter": "python",
   "pygments_lexer": "ipython3",
   "version": "3.8.12"
  }
 },
 "nbformat": 4,
 "nbformat_minor": 5
}
