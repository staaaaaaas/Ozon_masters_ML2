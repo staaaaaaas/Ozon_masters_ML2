{
 "cells": [
  {
   "cell_type": "markdown",
   "id": "a6d60dbd-97cc-472c-92a6-1ed6a75d0170",
   "metadata": {},
   "source": [
    "# C2\n",
    "# Предсказание отмены такси\n",
    "\n",
    "## курс \"Машинное обучение 2\", программа OzonMasters, 2022\n",
    "\n",
    "## Студент: Арешин Станислав Олегович\n",
    "\n",
    "## Baseline 2\n",
    "\n",
    "В данном ноутбуке представлено решение, побившее второй бейслайн. (Скор решения при использовании всех данных на паблике 0.74958 при бейслайне 0.69283). В целом это решение отличается от решения, которое побило первый бейслайн, набором сгенерированных признаков. В решении первого бейслайна использовались только временные признаки и ohe hot кодирование категорий с тем же catboost, поэтому код первого бейслайна я отдельно приводить не буду.\n",
    "\n",
    "**Что же помогло побить второй бейслайн?**\n",
    "\n",
    "* Наибольший прирост к скору дали признаки, составленные из почти дубликатов заказов (функция find_almost_dupclicates). Идея функции описана в разделе с данной функцией.\n",
    "* Также хорошо сработали расстояния до центров городов и минимальное расстояние до города (функция get_dists_from_cities)\n",
    "* От погодных данных становилось только хуже, так как они едут из-за смены времени года (см weather_data_eda.ipynb), поэтому их я не использую.\n",
    "* Остальное по порядку по ходу ноутбука)\n",
    "\n",
    "**В ноутбуке описана основа решения, представлены оценки модели на валидационной выборке. Это не итоговое решение. В итоговом решении я применил блендинг на всех данных с теми же признаками и немного увеличил скор. Ноутбук с блендингом тоже прилагается.**"
   ]
  },
  {
   "cell_type": "code",
   "execution_count": 1,
   "id": "6918d4ee-5ef7-4c1f-b7fd-f98517148265",
   "metadata": {},
   "outputs": [],
   "source": [
    "import pandas as pd\n",
    "import numpy as np\n",
    "import matplotlib.pyplot as plt\n",
    "import seaborn as sns \n",
    "import warnings\n",
    "from tqdm import tqdm\n",
    "warnings.filterwarnings(\"ignore\")\n",
    "\n",
    "sns.set_style(\"darkgrid\", {\"grid.color\": \".6\", \"grid.linestyle\": \":\"})\n",
    "\n",
    "%matplotlib inline"
   ]
  },
  {
   "cell_type": "markdown",
   "id": "768e6823-91c0-448c-aad9-74c03e3fa4ac",
   "metadata": {},
   "source": [
    "# Загрузка данных\n",
    "\n",
    "Сразу подгружаю данные с рассчитанными расстояними до городов, так как сама функция работает долговато и проще посчитать один раз и сохранить. Данные сортируем по due для дальнейшего поиска почти дубликатов, потом вернем обратно."
   ]
  },
  {
   "cell_type": "code",
   "execution_count": 2,
   "id": "eaaa499e-9c09-411c-b290-3d3889005033",
   "metadata": {},
   "outputs": [
    {
     "name": "stdout",
     "output_type": "stream",
     "text": [
      "(1187461, 14)\n"
     ]
    },
    {
     "data": {
      "text/html": [
       "<div>\n",
       "<style scoped>\n",
       "    .dataframe tbody tr th:only-of-type {\n",
       "        vertical-align: middle;\n",
       "    }\n",
       "\n",
       "    .dataframe tbody tr th {\n",
       "        vertical-align: top;\n",
       "    }\n",
       "\n",
       "    .dataframe thead th {\n",
       "        text-align: right;\n",
       "    }\n",
       "</style>\n",
       "<table border=\"1\" class=\"dataframe\">\n",
       "  <thead>\n",
       "    <tr style=\"text-align: right;\">\n",
       "      <th></th>\n",
       "      <th>dist</th>\n",
       "      <th>due</th>\n",
       "      <th>f_class</th>\n",
       "      <th>lat</th>\n",
       "      <th>lon</th>\n",
       "      <th>s_class</th>\n",
       "      <th>t_class</th>\n",
       "      <th>dist_to_MOSCOW</th>\n",
       "      <th>dist_to_SPB</th>\n",
       "      <th>dist_to_KAZAN</th>\n",
       "      <th>dist_to_N_NOVGOROD</th>\n",
       "      <th>dist_to_VORONEZH</th>\n",
       "      <th>min_dist_to_city</th>\n",
       "      <th>target</th>\n",
       "    </tr>\n",
       "  </thead>\n",
       "  <tbody>\n",
       "    <tr>\n",
       "      <th>823150</th>\n",
       "      <td>17990.125431</td>\n",
       "      <td>2014-01-01 00:09:32.000</td>\n",
       "      <td>econom</td>\n",
       "      <td>55.750130</td>\n",
       "      <td>37.823242</td>\n",
       "      <td>NaN</td>\n",
       "      <td>NaN</td>\n",
       "      <td>0.206023</td>\n",
       "      <td>8.577844</td>\n",
       "      <td>11.243127</td>\n",
       "      <td>6.209581</td>\n",
       "      <td>4.315741</td>\n",
       "      <td>0.206023</td>\n",
       "      <td>1</td>\n",
       "    </tr>\n",
       "    <tr>\n",
       "      <th>685195</th>\n",
       "      <td>2322.180999</td>\n",
       "      <td>2014-01-01 00:10:00.000</td>\n",
       "      <td>econom</td>\n",
       "      <td>55.711488</td>\n",
       "      <td>37.884183</td>\n",
       "      <td>NaN</td>\n",
       "      <td>NaN</td>\n",
       "      <td>0.270543</td>\n",
       "      <td>8.649893</td>\n",
       "      <td>11.182532</td>\n",
       "      <td>6.152650</td>\n",
       "      <td>4.259919</td>\n",
       "      <td>0.270543</td>\n",
       "      <td>0</td>\n",
       "    </tr>\n",
       "    <tr>\n",
       "      <th>996389</th>\n",
       "      <td>14608.577392</td>\n",
       "      <td>2014-01-01 00:10:00.000</td>\n",
       "      <td>econom</td>\n",
       "      <td>55.633404</td>\n",
       "      <td>37.797595</td>\n",
       "      <td>NaN</td>\n",
       "      <td>NaN</td>\n",
       "      <td>0.217931</td>\n",
       "      <td>8.613152</td>\n",
       "      <td>11.270209</td>\n",
       "      <td>6.246994</td>\n",
       "      <td>4.213747</td>\n",
       "      <td>0.217931</td>\n",
       "      <td>0</td>\n",
       "    </tr>\n",
       "    <tr>\n",
       "      <th>497811</th>\n",
       "      <td>20055.569096</td>\n",
       "      <td>2014-01-01 00:10:00.000</td>\n",
       "      <td>econom</td>\n",
       "      <td>55.780380</td>\n",
       "      <td>37.645240</td>\n",
       "      <td>NaN</td>\n",
       "      <td>NaN</td>\n",
       "      <td>0.037198</td>\n",
       "      <td>8.407917</td>\n",
       "      <td>11.420952</td>\n",
       "      <td>6.384175</td>\n",
       "      <td>4.404071</td>\n",
       "      <td>0.037198</td>\n",
       "      <td>0</td>\n",
       "    </tr>\n",
       "    <tr>\n",
       "      <th>812346</th>\n",
       "      <td>20585.444093</td>\n",
       "      <td>2014-01-01 00:10:00.000</td>\n",
       "      <td>econom</td>\n",
       "      <td>55.675676</td>\n",
       "      <td>37.500387</td>\n",
       "      <td>NaN</td>\n",
       "      <td>NaN</td>\n",
       "      <td>0.141746</td>\n",
       "      <td>8.335291</td>\n",
       "      <td>11.566730</td>\n",
       "      <td>6.538104</td>\n",
       "      <td>4.360663</td>\n",
       "      <td>0.141746</td>\n",
       "      <td>1</td>\n",
       "    </tr>\n",
       "  </tbody>\n",
       "</table>\n",
       "</div>"
      ],
      "text/plain": [
       "                dist                      due f_class        lat        lon  \\\n",
       "823150  17990.125431  2014-01-01 00:09:32.000  econom  55.750130  37.823242   \n",
       "685195   2322.180999  2014-01-01 00:10:00.000  econom  55.711488  37.884183   \n",
       "996389  14608.577392  2014-01-01 00:10:00.000  econom  55.633404  37.797595   \n",
       "497811  20055.569096  2014-01-01 00:10:00.000  econom  55.780380  37.645240   \n",
       "812346  20585.444093  2014-01-01 00:10:00.000  econom  55.675676  37.500387   \n",
       "\n",
       "       s_class t_class  dist_to_MOSCOW  dist_to_SPB  dist_to_KAZAN  \\\n",
       "823150     NaN     NaN        0.206023     8.577844      11.243127   \n",
       "685195     NaN     NaN        0.270543     8.649893      11.182532   \n",
       "996389     NaN     NaN        0.217931     8.613152      11.270209   \n",
       "497811     NaN     NaN        0.037198     8.407917      11.420952   \n",
       "812346     NaN     NaN        0.141746     8.335291      11.566730   \n",
       "\n",
       "        dist_to_N_NOVGOROD  dist_to_VORONEZH  min_dist_to_city  target  \n",
       "823150            6.209581          4.315741          0.206023       1  \n",
       "685195            6.152650          4.259919          0.270543       0  \n",
       "996389            6.246994          4.213747          0.217931       0  \n",
       "497811            6.384175          4.404071          0.037198       0  \n",
       "812346            6.538104          4.360663          0.141746       1  "
      ]
     },
     "execution_count": 2,
     "metadata": {},
     "output_type": "execute_result"
    }
   ],
   "source": [
    "df = pd.read_csv('1_data/train_data_w_dists.csv')\n",
    "target = pd.read_csv('1_data/train_target.csv')\n",
    "df['target'] = np.array(target)\n",
    "df = df.sort_values('due')\n",
    "print(df.shape)\n",
    "df.head()"
   ]
  },
  {
   "cell_type": "code",
   "execution_count": 3,
   "id": "259d4e50-d211-4318-a98f-b4e7f9742dd9",
   "metadata": {},
   "outputs": [
    {
     "name": "stdout",
     "output_type": "stream",
     "text": [
      "(510937, 13)\n"
     ]
    },
    {
     "data": {
      "text/html": [
       "<div>\n",
       "<style scoped>\n",
       "    .dataframe tbody tr th:only-of-type {\n",
       "        vertical-align: middle;\n",
       "    }\n",
       "\n",
       "    .dataframe tbody tr th {\n",
       "        vertical-align: top;\n",
       "    }\n",
       "\n",
       "    .dataframe thead th {\n",
       "        text-align: right;\n",
       "    }\n",
       "</style>\n",
       "<table border=\"1\" class=\"dataframe\">\n",
       "  <thead>\n",
       "    <tr style=\"text-align: right;\">\n",
       "      <th></th>\n",
       "      <th>dist</th>\n",
       "      <th>due</th>\n",
       "      <th>f_class</th>\n",
       "      <th>lat</th>\n",
       "      <th>lon</th>\n",
       "      <th>s_class</th>\n",
       "      <th>t_class</th>\n",
       "      <th>dist_to_MOSCOW</th>\n",
       "      <th>dist_to_SPB</th>\n",
       "      <th>dist_to_KAZAN</th>\n",
       "      <th>dist_to_N_NOVGOROD</th>\n",
       "      <th>dist_to_VORONEZH</th>\n",
       "      <th>min_dist_to_city</th>\n",
       "    </tr>\n",
       "  </thead>\n",
       "  <tbody>\n",
       "    <tr>\n",
       "      <th>418832</th>\n",
       "      <td>12228.949942</td>\n",
       "      <td>2014-03-06 08:00:00.000</td>\n",
       "      <td>econom</td>\n",
       "      <td>55.709632</td>\n",
       "      <td>37.767186</td>\n",
       "      <td>business</td>\n",
       "      <td>NaN</td>\n",
       "      <td>0.156845</td>\n",
       "      <td>8.548894</td>\n",
       "      <td>11.299542</td>\n",
       "      <td>6.269254</td>\n",
       "      <td>4.295751</td>\n",
       "      <td>0.156845</td>\n",
       "    </tr>\n",
       "    <tr>\n",
       "      <th>330723</th>\n",
       "      <td>11792.691777</td>\n",
       "      <td>2014-03-06 08:00:00.000</td>\n",
       "      <td>business</td>\n",
       "      <td>55.867147</td>\n",
       "      <td>37.665435</td>\n",
       "      <td>NaN</td>\n",
       "      <td>NaN</td>\n",
       "      <td>0.121284</td>\n",
       "      <td>8.383043</td>\n",
       "      <td>11.400706</td>\n",
       "      <td>6.357193</td>\n",
       "      <td>4.478395</td>\n",
       "      <td>0.121284</td>\n",
       "    </tr>\n",
       "    <tr>\n",
       "      <th>440585</th>\n",
       "      <td>1424.111651</td>\n",
       "      <td>2014-03-06 08:00:00.000</td>\n",
       "      <td>econom</td>\n",
       "      <td>55.747110</td>\n",
       "      <td>37.642815</td>\n",
       "      <td>business</td>\n",
       "      <td>NaN</td>\n",
       "      <td>0.026964</td>\n",
       "      <td>8.422299</td>\n",
       "      <td>11.423571</td>\n",
       "      <td>6.389524</td>\n",
       "      <td>4.373822</td>\n",
       "      <td>0.026964</td>\n",
       "    </tr>\n",
       "    <tr>\n",
       "      <th>462500</th>\n",
       "      <td>487.808926</td>\n",
       "      <td>2014-03-06 08:00:00.000</td>\n",
       "      <td>econom</td>\n",
       "      <td>55.744936</td>\n",
       "      <td>37.615057</td>\n",
       "      <td>business</td>\n",
       "      <td>NaN</td>\n",
       "      <td>0.011117</td>\n",
       "      <td>8.399310</td>\n",
       "      <td>11.451344</td>\n",
       "      <td>6.417364</td>\n",
       "      <td>4.381755</td>\n",
       "      <td>0.011117</td>\n",
       "    </tr>\n",
       "    <tr>\n",
       "      <th>75315</th>\n",
       "      <td>2503.594134</td>\n",
       "      <td>2014-03-06 08:00:00.000</td>\n",
       "      <td>econom</td>\n",
       "      <td>55.762961</td>\n",
       "      <td>37.619647</td>\n",
       "      <td>business</td>\n",
       "      <td>NaN</td>\n",
       "      <td>0.007513</td>\n",
       "      <td>8.394317</td>\n",
       "      <td>11.446634</td>\n",
       "      <td>6.411183</td>\n",
       "      <td>4.396913</td>\n",
       "      <td>0.007513</td>\n",
       "    </tr>\n",
       "  </tbody>\n",
       "</table>\n",
       "</div>"
      ],
      "text/plain": [
       "                dist                      due   f_class        lat        lon  \\\n",
       "418832  12228.949942  2014-03-06 08:00:00.000    econom  55.709632  37.767186   \n",
       "330723  11792.691777  2014-03-06 08:00:00.000  business  55.867147  37.665435   \n",
       "440585   1424.111651  2014-03-06 08:00:00.000    econom  55.747110  37.642815   \n",
       "462500    487.808926  2014-03-06 08:00:00.000    econom  55.744936  37.615057   \n",
       "75315    2503.594134  2014-03-06 08:00:00.000    econom  55.762961  37.619647   \n",
       "\n",
       "         s_class t_class  dist_to_MOSCOW  dist_to_SPB  dist_to_KAZAN  \\\n",
       "418832  business     NaN        0.156845     8.548894      11.299542   \n",
       "330723       NaN     NaN        0.121284     8.383043      11.400706   \n",
       "440585  business     NaN        0.026964     8.422299      11.423571   \n",
       "462500  business     NaN        0.011117     8.399310      11.451344   \n",
       "75315   business     NaN        0.007513     8.394317      11.446634   \n",
       "\n",
       "        dist_to_N_NOVGOROD  dist_to_VORONEZH  min_dist_to_city  \n",
       "418832            6.269254          4.295751          0.156845  \n",
       "330723            6.357193          4.478395          0.121284  \n",
       "440585            6.389524          4.373822          0.026964  \n",
       "462500            6.417364          4.381755          0.011117  \n",
       "75315             6.411183          4.396913          0.007513  "
      ]
     },
     "execution_count": 3,
     "metadata": {},
     "output_type": "execute_result"
    }
   ],
   "source": [
    "df_test = pd.read_csv('1_data/test_data_w_dists.csv')\n",
    "df_test = df_test.sort_values('due')\n",
    "print(df_test.shape)\n",
    "\n",
    "df_test.head()"
   ]
  },
  {
   "cell_type": "markdown",
   "id": "e7713024-92f5-4ad8-a814-1585148bd42a",
   "metadata": {},
   "source": [
    "# get_dists_from_cities\n",
    "\n",
    "Вычисление евклидовых расстояний до центров городов и минимального расстояния до города. Хорошие признаки, но считаются долго (у меня 45 минут для всех данных)."
   ]
  },
  {
   "cell_type": "code",
   "execution_count": 4,
   "id": "0992a43f-6862-406a-a1c3-0efd77f43d76",
   "metadata": {},
   "outputs": [],
   "source": [
    "from scipy.spatial import distance\n",
    "\n",
    "def get_dists_from_cities(row):\n",
    "    MOSCOW = np.array([55.755825, 37.617298])\n",
    "    SPB = np.array([59.934280, 30.335098])\n",
    "    KAZAN = np.array([55.830433, 49.066082])\n",
    "    N_NOVGOROD = np.array([56.326790, 44.005989])\n",
    "    VORONEZH = np.array([51.659908, 39.200089])\n",
    "    dist_to_MOSCOW = distance.euclidean(row[['lat', 'lon']], MOSCOW)\n",
    "    dist_to_SPB = distance.euclidean(row[['lat', 'lon']], SPB)\n",
    "    dist_to_KAZAN = distance.euclidean(row[['lat', 'lon']], KAZAN)\n",
    "    dist_to_N_NOVGOROD = distance.euclidean(row[['lat', 'lon']], N_NOVGOROD)\n",
    "    dist_to_VORONEZH = distance.euclidean(row[['lat', 'lon']], VORONEZH)\n",
    "    min_dist_to_city = np.min([dist_to_MOSCOW, dist_to_SPB, dist_to_KAZAN, dist_to_N_NOVGOROD, dist_to_VORONEZH]) \n",
    "    return dist_to_MOSCOW, dist_to_SPB, dist_to_KAZAN, dist_to_N_NOVGOROD, dist_to_VORONEZH, min_dist_to_city"
   ]
  },
  {
   "cell_type": "code",
   "execution_count": null,
   "id": "f2c24756-fcd6-4a46-a992-728e92147f28",
   "metadata": {},
   "outputs": [],
   "source": [
    "%%time\n",
    "\n",
    "# ~30 минут\n",
    "\n",
    "df[['dist_to_MOSCOW', 'dist_to_SPB', 'dist_to_KAZAN', 'dist_to_N_NOVGOROD',\\\n",
    "          'dist_to_VORONEZH', 'min_dist_to_city']] = df[['lat', 'lon']].apply(\\\n",
    "                                                        get_dists_from_cities, result_type='expand', axis=1)"
   ]
  },
  {
   "cell_type": "code",
   "execution_count": null,
   "id": "439d40b9-ecde-4556-a071-697c6eadcab0",
   "metadata": {},
   "outputs": [],
   "source": [
    "%%time\n",
    "\n",
    "# ~15 минут\n",
    "\n",
    "df_test[['dist_to_MOSCOW', 'dist_to_SPB', 'dist_to_KAZAN', 'dist_to_N_NOVGOROD',\\\n",
    "          'dist_to_VORONEZH', 'min_dist_to_city']] = df_test[['lat', 'lon']].apply(\\\n",
    "                                                        get_dists_from_cities, result_type='expand', axis=1)"
   ]
  },
  {
   "cell_type": "code",
   "execution_count": 3,
   "id": "ff2974c1-ac95-464d-8ede-86e14cbd3631",
   "metadata": {},
   "outputs": [],
   "source": [
    "# df.to_csv('1_data/train_data_w_dists.csv', index=False)\n",
    "# df_test.to_csv('1_data/test_data_w_dists.csv', index=False)"
   ]
  },
  {
   "cell_type": "markdown",
   "id": "b26027ad-da2c-4899-856d-0dac95c6ee8c",
   "metadata": {},
   "source": [
    "# Обучающая выборка\n",
    "\n",
    "Выделим валидационную выборку для оценки качества как 20 процентов данных с конца, так как данные теста тоже из будущего."
   ]
  },
  {
   "cell_type": "code",
   "execution_count": 5,
   "id": "c82bd3aa-1052-4f9c-a6f6-14822983b773",
   "metadata": {},
   "outputs": [
    {
     "name": "stdout",
     "output_type": "stream",
     "text": [
      "Train shape : (949968, 14)\n",
      "Val shape : (237493, 14)\n"
     ]
    }
   ],
   "source": [
    "df_train = df[:int(len(df) * 0.8)].copy()\n",
    "df_val = df[int(len(df) * 0.8) :].copy()\n",
    "\n",
    "print(f'Train shape : {df_train.shape}')\n",
    "print(f'Val shape : {df_val.shape}')"
   ]
  },
  {
   "cell_type": "markdown",
   "id": "8496c1d5-1c76-4a56-b2f6-c221dd692aca",
   "metadata": {},
   "source": [
    "Сверим баланс таргета на обучении и валидации."
   ]
  },
  {
   "cell_type": "code",
   "execution_count": 6,
   "id": "074f2d36-0c98-405d-a55b-58f8f7c1b2ee",
   "metadata": {},
   "outputs": [
    {
     "data": {
      "image/png": "[encoded data removed]",
      "text/plain": [
       "<Figure size 576x432 with 1 Axes>"
      ]
     },
     "metadata": {
      "needs_background": "light"
     },
     "output_type": "display_data"
    }
   ],
   "source": [
    "plt.figure(figsize=(8,6))\n",
    "plt.title('Баланс целевой величины')\n",
    "sns.histplot(data=df_train, x='target')\n",
    "plt.xticks([0,1])\n",
    "plt.show()"
   ]
  },
  {
   "cell_type": "code",
   "execution_count": 7,
   "id": "548b614f-5a75-42a1-a241-493e51951b90",
   "metadata": {},
   "outputs": [
    {
     "data": {
      "image/png": "[encoded data removed]",
      "text/plain": [
       "<Figure size 576x432 with 1 Axes>"
      ]
     },
     "metadata": {
      "needs_background": "light"
     },
     "output_type": "display_data"
    }
   ],
   "source": [
    "plt.figure(figsize=(8,6))\n",
    "plt.title('Баланс целевой величины')\n",
    "sns.histplot(data=df_val, x='target')\n",
    "plt.xticks([0,1])\n",
    "plt.show()"
   ]
  },
  {
   "cell_type": "markdown",
   "id": "cf7b76ba-2f21-47c7-91ba-83cd7a6f804e",
   "metadata": {},
   "source": [
    "Вроде все честно))"
   ]
  },
  {
   "cell_type": "markdown",
   "id": "af612ec0-6018-460d-bff5-989e40cd3b82",
   "metadata": {},
   "source": [
    "# get_datetime_features\n",
    "\n",
    "Признаки, выделенные из даты и времени. Они помогли побить первый бейслайн, также помогли для джоина погоды в weather_data_eda.ipynb и для поиска почти дубликатов. В общем - супер признаки). Отмечу, что до раскрытия первого бейслайна я не выделял 'total_minutes' и 'total_seconds', но этого все равно хватило."
   ]
  },
  {
   "cell_type": "code",
   "execution_count": 8,
   "id": "cff6f2a3-de7f-4898-9b10-4ded3cb3ac2f",
   "metadata": {},
   "outputs": [],
   "source": [
    "def get_datetime_features(df):\n",
    "    df_res = df.copy()\n",
    "    df_res['due_datetime'] = pd.to_datetime(df_res['due'])\n",
    "    df_res['month'] = df_res['due_datetime'].dt.month\n",
    "    df_res['day'] = df_res['due_datetime'].dt.day\n",
    "    df_res['weekday'] = df_res['due_datetime'].dt.weekday\n",
    "    df_res['is_weekend'] = df_res.apply(lambda row: 1 if  row['weekday'] > 4\\\n",
    "                                           else 0, axis=1)\n",
    "    df_res['hour'] = df_res['due_datetime'].dt.hour\n",
    "    df_res['day_period'] = (df_res['hour'] % 24 + 4) // 4\n",
    "    \n",
    "    df_res['time_as_str'] = df_res['due'].apply(lambda x: x[x.find(' ') + 1:-4])\n",
    "    df_res['due_timedelta'] = pd.to_timedelta(df_res['time_as_str'])\n",
    "    df_res['total_seconds'] = df_res['due_timedelta'].dt.total_seconds()\n",
    "    df_res['total_minutes'] = df_res['total_seconds'] // 60\n",
    "    \n",
    "    df_res.drop(['time_as_str', 'due_timedelta', 'due_datetime', 'due'], inplace=True, axis=1)\n",
    "    return df_res  "
   ]
  },
  {
   "cell_type": "code",
   "execution_count": 9,
   "id": "11d15f24-948c-4f4d-95f0-28b0914ed305",
   "metadata": {},
   "outputs": [
    {
     "name": "stdout",
     "output_type": "stream",
     "text": [
      "Wall time: 56.6 s\n"
     ]
    }
   ],
   "source": [
    "%%time \n",
    "\n",
    "df_train = get_datetime_features(df_train)\n",
    "\n",
    "df_val = get_datetime_features(df_val)\n",
    "\n",
    "df_test = get_datetime_features(df_test)"
   ]
  },
  {
   "cell_type": "markdown",
   "id": "b74b8040-d918-4d0d-b359-0e715d3b4e8a",
   "metadata": {},
   "source": [
    "# get_geo_features\n",
    "\n",
    "Данную функцию я позаимствовал из открытого ноутбука, немного переписал под себя. В тесте есть перепутанные lat lon, в обучении их нет, а признак очень важный, это надо исправить."
   ]
  },
  {
   "cell_type": "code",
   "execution_count": 10,
   "id": "6ded378f-c6e8-4e89-b0b2-dc3f9c77fd21",
   "metadata": {},
   "outputs": [],
   "source": [
    "def get_geo_features(df, test=False):\n",
    "    df_res = df.copy()\n",
    "    df_res['city'] = 'other'\n",
    "    df_res.loc[df_res['lat'].between(59.4, 60.3) & df_res['lon'].between(29.23, 31.394), 'city'] = 'spb'\n",
    "    df_res.loc[df_res['lat'].between(54.35, 56.7) & df_res['lon'].between(35.05, 39.86), 'city'] = 'moscow'\n",
    "    df_res.loc[df_res['lat'].between(49.68, 52.03) & df_res['lon'].between(37.68, 43.35), 'city'] = 'voronezh'\n",
    "    df_res.loc[df_res['lat'].between(55.95, 56.45) & df_res['lon'].between(43.38, 44.76), 'city'] = 'nnovgorod'\n",
    "    df_res.loc[df_res['lat'].between(55.46, 55.94) & df_res['lon'].between(48.54, 50.06), 'city'] = 'kazan'\n",
    "    \n",
    "    if test:\n",
    "        df_res['lat'], df_res['lon'] = np.where(df_res['city']=='other',\\\n",
    "                                                (df_res['lon'],df_res['lat']),(df_res['lat'],df_res['lon']))\n",
    "        df_res.loc[df_res['lat'].between(59.4, 60.3) & df_res['lon'].between(29.23, 31.394), 'city'] = 'spb'\n",
    "        df_res.loc[df_res['lat'].between(54.35, 56.7) & df_res['lon'].between(35.05, 39.86), 'city'] = 'moscow'\n",
    "        df_res.loc[df_res['lat'].between(49.68, 52.03) & df_res['lon'].between(37.68, 43.35), 'city'] = 'voronezh'\n",
    "        df_res.loc[df_res['lat'].between(55.95, 56.45) & df_res['lon'].between(43.38, 44.76), 'city'] = 'nnovgorod'\n",
    "        df_res.loc[df_res['lat'].between(55.46, 55.94) & df_res['lon'].between(48.54, 50.06), 'city'] = 'kazan'\n",
    "    return df_res  "
   ]
  },
  {
   "cell_type": "code",
   "execution_count": 11,
   "id": "a742f8d2-7040-4d97-8acd-ac9a2589978d",
   "metadata": {},
   "outputs": [
    {
     "name": "stdout",
     "output_type": "stream",
     "text": [
      "Wall time: 537 ms\n"
     ]
    }
   ],
   "source": [
    "%%time\n",
    "\n",
    "df_train = get_geo_features(df_train)\n",
    "df_val = get_geo_features(df_val)\n",
    "df_test = get_geo_features(df_test, test=True)"
   ]
  },
  {
   "cell_type": "markdown",
   "id": "a98eba66-ff6b-49f2-b62f-42d8cac9b01f",
   "metadata": {},
   "source": [
    "# find_almost_duplicates\n",
    "\n",
    "Самая важная функция данного решения. Благодаря этим признакам был побит второй бейслайн. Давайте подумаем, почему человек мог отменить заказ до того, как его взял таксист? Ниже несколько вариантов:\n",
    "\n",
    "* Человек заказал случайно в другое место, потом отменил и заказал в нужное.\n",
    "* Человек резко передумал ехать именно сейчас и поехал позже (например отговорили друзья или появились срочные дела). Тогда он закажет и поедет позже : через несколько минут, несколько часов, в в другое время суток и тд.\n",
    "\n",
    "Напрашивается идея искать похожие по таким критериям заказы, приняв последний похожий заказ как не дубликат, а остальные помечать как дубликаты (для этого была сортировка по due в самом начале). Из этой идеи получается прекрасный признак. Можно придумать несколько комбинаций, по которым будем искать почти дубликаты, и нагенерировать дополнительные признаки, которые помогут итоговой модельке. Ниже реализован код такой функции."
   ]
  },
  {
   "cell_type": "code",
   "execution_count": 12,
   "id": "c7a0bba5-e451-4cb7-a5a1-35157a79a550",
   "metadata": {},
   "outputs": [],
   "source": [
    "# предварительно отсортировать данные\n",
    "def find_almost_dupclicates(df):\n",
    "    df_res = df.copy()\n",
    "    df_res['lat_lon_duplicated'] = df_res.duplicated(subset=['lat', 'lon'], keep='last')\n",
    "    df_res['dist_lat_lon_duplicated'] = df_res.duplicated(subset=['dist', 'lat', 'lon'], keep='last')\n",
    "    df_res['dist_lat_lon_classes_duplicated'] = df_res.duplicated(subset=['dist', 'lat', 'lon', 'f_class','s_class','t_class'], keep='last')\n",
    "    df_res['day_lat_lon_duplicated'] = df_res.duplicated(subset=['month', 'day', 'lat', 'lon'], keep='last')\n",
    "    df_res['dayperiod_lat_lon_duplicated'] = df_res.duplicated(subset=['month', 'day','day_period', 'lat', 'lon'], keep='last')\n",
    "    df_res['hour_lat_lon_duplicated'] = df_res.duplicated(subset=['month', 'day','hour', 'lat', 'lon'], keep='last')\n",
    "    df_res['minutes_lat_lon_duplicated'] = df_res.duplicated(subset=['month', 'day','total_minutes', 'lat', 'lon'], keep='last')\n",
    "    df_res['dist_day_lat_lon_duplicated'] = df_res.duplicated(subset=['dist','month', 'day', 'lat', 'lon'], keep='last')\n",
    "    df_res['dist_dayperiod_lat_lon_duplicated'] = df_res.duplicated(subset=['dist','month', 'day','day_period', 'lat', 'lon'], keep='last')\n",
    "    df_res['dist_hour_lat_lon_duplicated'] = df_res.duplicated(subset=['dist','month', 'day','hour', 'lat', 'lon'], keep='last')\n",
    "    return df_res"
   ]
  },
  {
   "cell_type": "code",
   "execution_count": null,
   "id": "ab8f6358-8de3-4ecf-9d63-20c3169e12c3",
   "metadata": {},
   "outputs": [],
   "source": [
    "df_train = find_almost_dupclicates(df_train)\n",
    "df_val = find_almost_dupclicates(df_val)\n",
    "df_test = find_almost_dupclicates(df_test)"
   ]
  },
  {
   "cell_type": "markdown",
   "id": "d606d80e-7558-4632-aa40-567ac0e5b552",
   "metadata": {},
   "source": [
    "Построим несколько визуализаций разделений "
   ]
  },
  {
   "cell_type": "code",
   "execution_count": 14,
   "id": "93304c3e-7475-4595-9049-e62ed055ac4d",
   "metadata": {},
   "outputs": [
    {
     "data": {
      "text/plain": [
       "Index(['dist', 'f_class', 'lat', 'lon', 's_class', 't_class', 'dist_to_MOSCOW',\n",
       "       'dist_to_SPB', 'dist_to_KAZAN', 'dist_to_N_NOVGOROD',\n",
       "       'dist_to_VORONEZH', 'min_dist_to_city', 'target', 'month', 'day',\n",
       "       'weekday', 'is_weekend', 'hour', 'day_period', 'total_seconds',\n",
       "       'total_minutes', 'city', 'lat_lon_duplicated',\n",
       "       'dist_lat_lon_duplicated', 'dist_lat_lon_classes_duplicated',\n",
       "       'day_lat_lon_duplicated', 'dayperiod_lat_lon_duplicated',\n",
       "       'hour_lat_lon_duplicated', 'minutes_lat_lon_duplicated',\n",
       "       'dist_day_lat_lon_duplicated', 'dist_dayperiod_lat_lon_duplicated',\n",
       "       'dist_hour_lat_lon_duplicated'],\n",
       "      dtype='object')"
      ]
     },
     "execution_count": 14,
     "metadata": {},
     "output_type": "execute_result"
    }
   ],
   "source": [
    "df_train.columns"
   ]
  },
  {
   "cell_type": "code",
   "execution_count": 18,
   "id": "4cba8c78-09f7-435c-b4a3-c5cc4ee44f2e",
   "metadata": {},
   "outputs": [
    {
     "data": {
      "image/png": "[encoded data removed]",
      "text/plain": [
       "<Figure size 2160x2160 with 11 Axes>"
      ]
     },
     "metadata": {
      "needs_background": "light"
     },
     "output_type": "display_data"
    }
   ],
   "source": [
    "df_train_plot = df_train.copy()\n",
    "\n",
    "features = ['lat_lon_duplicated', 'dist_lat_lon_duplicated', 'dist_lat_lon_classes_duplicated',\\\n",
    "       'day_lat_lon_duplicated', 'dayperiod_lat_lon_duplicated', 'hour_lat_lon_duplicated',\\\n",
    "        'minutes_lat_lon_duplicated', 'dist_day_lat_lon_duplicated', 'dist_dayperiod_lat_lon_duplicated',\\\n",
    "       'dist_hour_lat_lon_duplicated']\n",
    "\n",
    "df_train_plot[features] = df_train_plot[features].astype(str)\n",
    "\n",
    "fig = plt.figure(figsize=(30, 30))\n",
    "plt.axis('off')\n",
    "\n",
    "for i, feat in enumerate(features):\n",
    "    ax = fig.add_subplot(int(len(features) / 2), 2, i + 1)\n",
    "    ax.set_title(f'{feat} by target balance')\n",
    "    sns.histplot(data=df_train_plot[df_train_plot['target'] == 0], x=feat, label='train 0', ax=ax, stat='percent')\n",
    "    sns.histplot(data=df_train_plot[df_train_plot['target'] == 1], x=feat, label='train 1', ax=ax,\\\n",
    "                     color='green', stat='percent', shrink=.8, alpha=.5)\n",
    "    ax.set_xlabel(feat)\n",
    "    ax.legend(['train 0', 'train 1'])"
   ]
  },
  {
   "cell_type": "markdown",
   "id": "f943f47a-72af-4e24-aa27-002f2bc605fb",
   "metadata": {},
   "source": [
    "Некоторые признаки прямо ну очень хороши для разделения, и они помогут итоговой модели в решении поставленной задачи."
   ]
  },
  {
   "cell_type": "markdown",
   "id": "6a535cec-fc0a-43f8-a8a8-75a1a858ec90",
   "metadata": {},
   "source": [
    "# Шафлим train и val, восстанавливем порядок test\n",
    "\n",
    "Так как в самом начале при загрузке данных они были отсортированы по времени, восстановим исходный порядок тестовой выборки, а обучение и валидацию можно просто пошафлить."
   ]
  },
  {
   "cell_type": "code",
   "execution_count": 19,
   "id": "7a7d7dc0-cefd-4d35-85a6-9bfee43db9c8",
   "metadata": {},
   "outputs": [
    {
     "data": {
      "text/html": [
       "<div>\n",
       "<style scoped>\n",
       "    .dataframe tbody tr th:only-of-type {\n",
       "        vertical-align: middle;\n",
       "    }\n",
       "\n",
       "    .dataframe tbody tr th {\n",
       "        vertical-align: top;\n",
       "    }\n",
       "\n",
       "    .dataframe thead th {\n",
       "        text-align: right;\n",
       "    }\n",
       "</style>\n",
       "<table border=\"1\" class=\"dataframe\">\n",
       "  <thead>\n",
       "    <tr style=\"text-align: right;\">\n",
       "      <th></th>\n",
       "      <th>dist</th>\n",
       "      <th>f_class</th>\n",
       "      <th>lat</th>\n",
       "      <th>lon</th>\n",
       "      <th>s_class</th>\n",
       "      <th>t_class</th>\n",
       "      <th>dist_to_MOSCOW</th>\n",
       "      <th>dist_to_SPB</th>\n",
       "      <th>dist_to_KAZAN</th>\n",
       "      <th>dist_to_N_NOVGOROD</th>\n",
       "      <th>...</th>\n",
       "      <th>lat_lon_duplicated</th>\n",
       "      <th>dist_lat_lon_duplicated</th>\n",
       "      <th>dist_lat_lon_classes_duplicated</th>\n",
       "      <th>day_lat_lon_duplicated</th>\n",
       "      <th>dayperiod_lat_lon_duplicated</th>\n",
       "      <th>hour_lat_lon_duplicated</th>\n",
       "      <th>minutes_lat_lon_duplicated</th>\n",
       "      <th>dist_day_lat_lon_duplicated</th>\n",
       "      <th>dist_dayperiod_lat_lon_duplicated</th>\n",
       "      <th>dist_hour_lat_lon_duplicated</th>\n",
       "    </tr>\n",
       "  </thead>\n",
       "  <tbody>\n",
       "    <tr>\n",
       "      <th>0</th>\n",
       "      <td>4611.506701</td>\n",
       "      <td>econom</td>\n",
       "      <td>55.776618</td>\n",
       "      <td>37.682503</td>\n",
       "      <td>NaN</td>\n",
       "      <td>NaN</td>\n",
       "      <td>0.068440</td>\n",
       "      <td>8.442187</td>\n",
       "      <td>11.383706</td>\n",
       "      <td>6.347375</td>\n",
       "      <td>...</td>\n",
       "      <td>False</td>\n",
       "      <td>False</td>\n",
       "      <td>False</td>\n",
       "      <td>False</td>\n",
       "      <td>False</td>\n",
       "      <td>False</td>\n",
       "      <td>False</td>\n",
       "      <td>False</td>\n",
       "      <td>False</td>\n",
       "      <td>False</td>\n",
       "    </tr>\n",
       "    <tr>\n",
       "      <th>1</th>\n",
       "      <td>14450.067441</td>\n",
       "      <td>econom</td>\n",
       "      <td>55.754659</td>\n",
       "      <td>37.810072</td>\n",
       "      <td>NaN</td>\n",
       "      <td>NaN</td>\n",
       "      <td>0.192778</td>\n",
       "      <td>8.564138</td>\n",
       "      <td>11.256265</td>\n",
       "      <td>6.222276</td>\n",
       "      <td>...</td>\n",
       "      <td>True</td>\n",
       "      <td>False</td>\n",
       "      <td>False</td>\n",
       "      <td>False</td>\n",
       "      <td>False</td>\n",
       "      <td>False</td>\n",
       "      <td>False</td>\n",
       "      <td>False</td>\n",
       "      <td>False</td>\n",
       "      <td>False</td>\n",
       "    </tr>\n",
       "    <tr>\n",
       "      <th>2</th>\n",
       "      <td>17755.993723</td>\n",
       "      <td>business</td>\n",
       "      <td>55.726141</td>\n",
       "      <td>37.587407</td>\n",
       "      <td>NaN</td>\n",
       "      <td>NaN</td>\n",
       "      <td>0.042127</td>\n",
       "      <td>8.384773</td>\n",
       "      <td>11.479149</td>\n",
       "      <td>6.446626</td>\n",
       "      <td>...</td>\n",
       "      <td>False</td>\n",
       "      <td>False</td>\n",
       "      <td>False</td>\n",
       "      <td>False</td>\n",
       "      <td>False</td>\n",
       "      <td>False</td>\n",
       "      <td>False</td>\n",
       "      <td>False</td>\n",
       "      <td>False</td>\n",
       "      <td>False</td>\n",
       "    </tr>\n",
       "    <tr>\n",
       "      <th>3</th>\n",
       "      <td>8533.172059</td>\n",
       "      <td>econom</td>\n",
       "      <td>55.794178</td>\n",
       "      <td>37.576456</td>\n",
       "      <td>business</td>\n",
       "      <td>NaN</td>\n",
       "      <td>0.056027</td>\n",
       "      <td>8.341325</td>\n",
       "      <td>11.489683</td>\n",
       "      <td>6.451556</td>\n",
       "      <td>...</td>\n",
       "      <td>True</td>\n",
       "      <td>False</td>\n",
       "      <td>False</td>\n",
       "      <td>False</td>\n",
       "      <td>False</td>\n",
       "      <td>False</td>\n",
       "      <td>False</td>\n",
       "      <td>False</td>\n",
       "      <td>False</td>\n",
       "      <td>False</td>\n",
       "    </tr>\n",
       "    <tr>\n",
       "      <th>4</th>\n",
       "      <td>-1.000000</td>\n",
       "      <td>econom</td>\n",
       "      <td>55.757409</td>\n",
       "      <td>37.542186</td>\n",
       "      <td>business</td>\n",
       "      <td>NaN</td>\n",
       "      <td>0.075129</td>\n",
       "      <td>8.329968</td>\n",
       "      <td>11.524127</td>\n",
       "      <td>6.488832</td>\n",
       "      <td>...</td>\n",
       "      <td>True</td>\n",
       "      <td>True</td>\n",
       "      <td>False</td>\n",
       "      <td>False</td>\n",
       "      <td>False</td>\n",
       "      <td>False</td>\n",
       "      <td>False</td>\n",
       "      <td>False</td>\n",
       "      <td>False</td>\n",
       "      <td>False</td>\n",
       "    </tr>\n",
       "  </tbody>\n",
       "</table>\n",
       "<p>5 rows × 31 columns</p>\n",
       "</div>"
      ],
      "text/plain": [
       "           dist   f_class        lat        lon   s_class t_class  \\\n",
       "0   4611.506701    econom  55.776618  37.682503       NaN     NaN   \n",
       "1  14450.067441    econom  55.754659  37.810072       NaN     NaN   \n",
       "2  17755.993723  business  55.726141  37.587407       NaN     NaN   \n",
       "3   8533.172059    econom  55.794178  37.576456  business     NaN   \n",
       "4     -1.000000    econom  55.757409  37.542186  business     NaN   \n",
       "\n",
       "   dist_to_MOSCOW  dist_to_SPB  dist_to_KAZAN  dist_to_N_NOVGOROD  ...  \\\n",
       "0        0.068440     8.442187      11.383706            6.347375  ...   \n",
       "1        0.192778     8.564138      11.256265            6.222276  ...   \n",
       "2        0.042127     8.384773      11.479149            6.446626  ...   \n",
       "3        0.056027     8.341325      11.489683            6.451556  ...   \n",
       "4        0.075129     8.329968      11.524127            6.488832  ...   \n",
       "\n",
       "   lat_lon_duplicated  dist_lat_lon_duplicated  \\\n",
       "0               False                    False   \n",
       "1                True                    False   \n",
       "2               False                    False   \n",
       "3                True                    False   \n",
       "4                True                     True   \n",
       "\n",
       "   dist_lat_lon_classes_duplicated  day_lat_lon_duplicated  \\\n",
       "0                            False                   False   \n",
       "1                            False                   False   \n",
       "2                            False                   False   \n",
       "3                            False                   False   \n",
       "4                            False                   False   \n",
       "\n",
       "   dayperiod_lat_lon_duplicated  hour_lat_lon_duplicated  \\\n",
       "0                         False                    False   \n",
       "1                         False                    False   \n",
       "2                         False                    False   \n",
       "3                         False                    False   \n",
       "4                         False                    False   \n",
       "\n",
       "   minutes_lat_lon_duplicated  dist_day_lat_lon_duplicated  \\\n",
       "0                       False                        False   \n",
       "1                       False                        False   \n",
       "2                       False                        False   \n",
       "3                       False                        False   \n",
       "4                       False                        False   \n",
       "\n",
       "   dist_dayperiod_lat_lon_duplicated  dist_hour_lat_lon_duplicated  \n",
       "0                              False                         False  \n",
       "1                              False                         False  \n",
       "2                              False                         False  \n",
       "3                              False                         False  \n",
       "4                              False                         False  \n",
       "\n",
       "[5 rows x 31 columns]"
      ]
     },
     "execution_count": 19,
     "metadata": {},
     "output_type": "execute_result"
    }
   ],
   "source": [
    "df_train = df_train.sample(frac=1, random_state=42)\n",
    "df_val = df_val.sample(frac=1, random_state=42)\n",
    "df_test = df_test.sort_index()\n",
    "df_test.head()"
   ]
  },
  {
   "cell_type": "markdown",
   "id": "dff26588-3f8d-418f-afdb-e2b3c8a160db",
   "metadata": {},
   "source": [
    "# Избавляемся от нанов\n",
    "\n",
    "Пропуски были только в категориальных переменных, поэтому заполним их отдельной категорией."
   ]
  },
  {
   "cell_type": "code",
   "execution_count": 20,
   "id": "e2f24a1d-7d18-4f79-b938-a3f1cbc29654",
   "metadata": {},
   "outputs": [],
   "source": [
    "cols_to_fill_newcat1 = ['f_class', 's_class', 't_class']"
   ]
  },
  {
   "cell_type": "code",
   "execution_count": 21,
   "id": "889a78ea-381b-485c-8f9b-29714ae7a251",
   "metadata": {},
   "outputs": [],
   "source": [
    "from sklearn.impute import SimpleImputer\n",
    "\n",
    "imp = SimpleImputer(strategy='constant', fill_value='unknown')\n",
    "\n",
    "to_fill_train = np.array(df_train[cols_to_fill_newcat1])\n",
    "fill_result_train = imp.fit_transform(to_fill_train)\n",
    "df_train[cols_to_fill_newcat1] = fill_result_train\n",
    "\n",
    "to_fill_val = np.array(df_val[cols_to_fill_newcat1])\n",
    "fill_result_val = imp.transform(to_fill_val)\n",
    "df_val[cols_to_fill_newcat1] = fill_result_val\n",
    "\n",
    "to_fill_test = np.array(df_test[cols_to_fill_newcat1])\n",
    "fill_result_test = imp.transform(to_fill_test)\n",
    "df_test[cols_to_fill_newcat1] = fill_result_test"
   ]
  },
  {
   "cell_type": "markdown",
   "id": "1a4ec76a-6025-4321-b32d-51886e596df9",
   "metadata": {},
   "source": [
    "Функция, которая создаёт признак того, что признак не нан. Небольшая помощь модельке. В признаке dist значением -1 ещё до этапа предоставления данных были заполнены наны, так что это тоже отметим."
   ]
  },
  {
   "cell_type": "code",
   "execution_count": 22,
   "id": "d3d49036-da51-463c-aba9-1f445e177a38",
   "metadata": {},
   "outputs": [],
   "source": [
    "def is_feature(df, val_cols, cat_cols):\n",
    "    df_res = df.copy()\n",
    "    for col in val_cols:\n",
    "        df_res[f'is_{col}'] = (df_res[col] != -1.0).astype(int)\n",
    "    for col in cat_cols:\n",
    "        df_res[f'is_{col}'] = (df_res[col] != 'unknown').astype(int)\n",
    "    return df_res"
   ]
  },
  {
   "cell_type": "code",
   "execution_count": 23,
   "id": "59b094d9-8f51-49cb-84b1-adf33e897b1f",
   "metadata": {},
   "outputs": [],
   "source": [
    "val_cols =  ['dist']\n",
    "cat_cols = ['f_class', 's_class', 't_class']\n",
    "df_train = is_feature(df_train, val_cols, cat_cols)\n",
    "df_val = is_feature(df_val, val_cols, cat_cols)\n",
    "df_test = is_feature(df_test, val_cols, cat_cols)"
   ]
  },
  {
   "cell_type": "markdown",
   "id": "66915808-95d7-46d1-ba57-67e2932ad52b",
   "metadata": {},
   "source": [
    "# Encoding\n",
    "\n",
    "Я принял решение использовать бустинг, поэтому достаточно будет использовать OrdinalEncoder."
   ]
  },
  {
   "cell_type": "code",
   "execution_count": 24,
   "id": "a8dfa6cd-fb5b-4d52-b468-b80aa029066a",
   "metadata": {},
   "outputs": [],
   "source": [
    "y_train = np.array(df_train['target'])\n",
    "y_val = np.array(df_val['target'])\n",
    "\n",
    "df_train.drop(['target'], axis=1, inplace=True)\n",
    "df_val.drop(['target'], axis=1, inplace=True)"
   ]
  },
  {
   "cell_type": "code",
   "execution_count": 25,
   "id": "be8a8931-656d-4e41-8556-8ec839223e28",
   "metadata": {},
   "outputs": [
    {
     "name": "stdout",
     "output_type": "stream",
     "text": [
      "(949968, 35)\n",
      "(237493, 35)\n",
      "(510937, 35)\n"
     ]
    },
    {
     "data": {
      "text/html": [
       "<div>\n",
       "<style scoped>\n",
       "    .dataframe tbody tr th:only-of-type {\n",
       "        vertical-align: middle;\n",
       "    }\n",
       "\n",
       "    .dataframe tbody tr th {\n",
       "        vertical-align: top;\n",
       "    }\n",
       "\n",
       "    .dataframe thead th {\n",
       "        text-align: right;\n",
       "    }\n",
       "</style>\n",
       "<table border=\"1\" class=\"dataframe\">\n",
       "  <thead>\n",
       "    <tr style=\"text-align: right;\">\n",
       "      <th></th>\n",
       "      <th>dist</th>\n",
       "      <th>f_class</th>\n",
       "      <th>lat</th>\n",
       "      <th>lon</th>\n",
       "      <th>s_class</th>\n",
       "      <th>t_class</th>\n",
       "      <th>dist_to_MOSCOW</th>\n",
       "      <th>dist_to_SPB</th>\n",
       "      <th>dist_to_KAZAN</th>\n",
       "      <th>dist_to_N_NOVGOROD</th>\n",
       "      <th>...</th>\n",
       "      <th>dayperiod_lat_lon_duplicated</th>\n",
       "      <th>hour_lat_lon_duplicated</th>\n",
       "      <th>minutes_lat_lon_duplicated</th>\n",
       "      <th>dist_day_lat_lon_duplicated</th>\n",
       "      <th>dist_dayperiod_lat_lon_duplicated</th>\n",
       "      <th>dist_hour_lat_lon_duplicated</th>\n",
       "      <th>is_dist</th>\n",
       "      <th>is_f_class</th>\n",
       "      <th>is_s_class</th>\n",
       "      <th>is_t_class</th>\n",
       "    </tr>\n",
       "  </thead>\n",
       "  <tbody>\n",
       "    <tr>\n",
       "      <th>275245</th>\n",
       "      <td>7528.434304</td>\n",
       "      <td>1</td>\n",
       "      <td>55.827530</td>\n",
       "      <td>37.593605</td>\n",
       "      <td>1</td>\n",
       "      <td>1</td>\n",
       "      <td>0.075518</td>\n",
       "      <td>8.339743</td>\n",
       "      <td>11.472477</td>\n",
       "      <td>6.431791</td>\n",
       "      <td>...</td>\n",
       "      <td>False</td>\n",
       "      <td>False</td>\n",
       "      <td>False</td>\n",
       "      <td>False</td>\n",
       "      <td>False</td>\n",
       "      <td>False</td>\n",
       "      <td>1</td>\n",
       "      <td>1</td>\n",
       "      <td>0</td>\n",
       "      <td>0</td>\n",
       "    </tr>\n",
       "    <tr>\n",
       "      <th>365753</th>\n",
       "      <td>16980.759249</td>\n",
       "      <td>2</td>\n",
       "      <td>55.806606</td>\n",
       "      <td>37.714815</td>\n",
       "      <td>1</td>\n",
       "      <td>1</td>\n",
       "      <td>0.109947</td>\n",
       "      <td>8.455644</td>\n",
       "      <td>11.351292</td>\n",
       "      <td>6.312643</td>\n",
       "      <td>...</td>\n",
       "      <td>False</td>\n",
       "      <td>False</td>\n",
       "      <td>False</td>\n",
       "      <td>False</td>\n",
       "      <td>False</td>\n",
       "      <td>False</td>\n",
       "      <td>1</td>\n",
       "      <td>1</td>\n",
       "      <td>0</td>\n",
       "      <td>0</td>\n",
       "    </tr>\n",
       "    <tr>\n",
       "      <th>43841</th>\n",
       "      <td>1388.981069</td>\n",
       "      <td>1</td>\n",
       "      <td>55.740522</td>\n",
       "      <td>37.581963</td>\n",
       "      <td>2</td>\n",
       "      <td>1</td>\n",
       "      <td>0.038506</td>\n",
       "      <td>8.372852</td>\n",
       "      <td>11.484471</td>\n",
       "      <td>6.450722</td>\n",
       "      <td>...</td>\n",
       "      <td>False</td>\n",
       "      <td>False</td>\n",
       "      <td>False</td>\n",
       "      <td>False</td>\n",
       "      <td>False</td>\n",
       "      <td>False</td>\n",
       "      <td>1</td>\n",
       "      <td>1</td>\n",
       "      <td>1</td>\n",
       "      <td>0</td>\n",
       "    </tr>\n",
       "    <tr>\n",
       "      <th>19329</th>\n",
       "      <td>4304.376186</td>\n",
       "      <td>1</td>\n",
       "      <td>55.763933</td>\n",
       "      <td>37.609290</td>\n",
       "      <td>2</td>\n",
       "      <td>1</td>\n",
       "      <td>0.011396</td>\n",
       "      <td>8.384847</td>\n",
       "      <td>11.456985</td>\n",
       "      <td>6.421415</td>\n",
       "      <td>...</td>\n",
       "      <td>False</td>\n",
       "      <td>False</td>\n",
       "      <td>False</td>\n",
       "      <td>False</td>\n",
       "      <td>False</td>\n",
       "      <td>False</td>\n",
       "      <td>1</td>\n",
       "      <td>1</td>\n",
       "      <td>1</td>\n",
       "      <td>0</td>\n",
       "    </tr>\n",
       "    <tr>\n",
       "      <th>470891</th>\n",
       "      <td>14004.675039</td>\n",
       "      <td>1</td>\n",
       "      <td>55.702825</td>\n",
       "      <td>37.569971</td>\n",
       "      <td>1</td>\n",
       "      <td>1</td>\n",
       "      <td>0.071055</td>\n",
       "      <td>8.381444</td>\n",
       "      <td>11.496819</td>\n",
       "      <td>6.466194</td>\n",
       "      <td>...</td>\n",
       "      <td>False</td>\n",
       "      <td>False</td>\n",
       "      <td>False</td>\n",
       "      <td>False</td>\n",
       "      <td>False</td>\n",
       "      <td>False</td>\n",
       "      <td>1</td>\n",
       "      <td>1</td>\n",
       "      <td>0</td>\n",
       "      <td>0</td>\n",
       "    </tr>\n",
       "  </tbody>\n",
       "</table>\n",
       "<p>5 rows × 35 columns</p>\n",
       "</div>"
      ],
      "text/plain": [
       "                dist  f_class        lat        lon  s_class  t_class  \\\n",
       "275245   7528.434304        1  55.827530  37.593605        1        1   \n",
       "365753  16980.759249        2  55.806606  37.714815        1        1   \n",
       "43841    1388.981069        1  55.740522  37.581963        2        1   \n",
       "19329    4304.376186        1  55.763933  37.609290        2        1   \n",
       "470891  14004.675039        1  55.702825  37.569971        1        1   \n",
       "\n",
       "        dist_to_MOSCOW  dist_to_SPB  dist_to_KAZAN  dist_to_N_NOVGOROD  ...  \\\n",
       "275245        0.075518     8.339743      11.472477            6.431791  ...   \n",
       "365753        0.109947     8.455644      11.351292            6.312643  ...   \n",
       "43841         0.038506     8.372852      11.484471            6.450722  ...   \n",
       "19329         0.011396     8.384847      11.456985            6.421415  ...   \n",
       "470891        0.071055     8.381444      11.496819            6.466194  ...   \n",
       "\n",
       "        dayperiod_lat_lon_duplicated  hour_lat_lon_duplicated  \\\n",
       "275245                         False                    False   \n",
       "365753                         False                    False   \n",
       "43841                          False                    False   \n",
       "19329                          False                    False   \n",
       "470891                         False                    False   \n",
       "\n",
       "        minutes_lat_lon_duplicated  dist_day_lat_lon_duplicated  \\\n",
       "275245                       False                        False   \n",
       "365753                       False                        False   \n",
       "43841                        False                        False   \n",
       "19329                        False                        False   \n",
       "470891                       False                        False   \n",
       "\n",
       "        dist_dayperiod_lat_lon_duplicated  dist_hour_lat_lon_duplicated  \\\n",
       "275245                              False                         False   \n",
       "365753                              False                         False   \n",
       "43841                               False                         False   \n",
       "19329                               False                         False   \n",
       "470891                              False                         False   \n",
       "\n",
       "        is_dist  is_f_class  is_s_class  is_t_class  \n",
       "275245        1           1           0           0  \n",
       "365753        1           1           0           0  \n",
       "43841         1           1           1           0  \n",
       "19329         1           1           1           0  \n",
       "470891        1           1           0           0  \n",
       "\n",
       "[5 rows x 35 columns]"
      ]
     },
     "execution_count": 25,
     "metadata": {},
     "output_type": "execute_result"
    }
   ],
   "source": [
    "from category_encoders import OrdinalEncoder\n",
    "\n",
    "cat_columns = list(df_train.select_dtypes('object').columns)\n",
    "encoder = OrdinalEncoder(cols = cat_columns)\n",
    "\n",
    "df_train_encoded = encoder.fit_transform(df_train)\n",
    "df_val_encoded = encoder.transform(df_val)\n",
    "df_test_encoded = encoder.transform(df_test)\n",
    "\n",
    "print(df_train_encoded.shape)\n",
    "print(df_val_encoded.shape)\n",
    "print(df_test_encoded.shape)\n",
    "\n",
    "df_train_encoded.head()"
   ]
  },
  {
   "cell_type": "code",
   "execution_count": 26,
   "id": "89e09e72-17ac-45c0-9861-39ec325ac130",
   "metadata": {},
   "outputs": [
    {
     "data": {
      "text/plain": [
       "Index(['dist', 'f_class', 'lat', 'lon', 's_class', 't_class', 'dist_to_MOSCOW',\n",
       "       'dist_to_SPB', 'dist_to_KAZAN', 'dist_to_N_NOVGOROD',\n",
       "       'dist_to_VORONEZH', 'min_dist_to_city', 'month', 'day', 'weekday',\n",
       "       'is_weekend', 'hour', 'day_period', 'total_seconds', 'total_minutes',\n",
       "       'city', 'lat_lon_duplicated', 'dist_lat_lon_duplicated',\n",
       "       'dist_lat_lon_classes_duplicated', 'day_lat_lon_duplicated',\n",
       "       'dayperiod_lat_lon_duplicated', 'hour_lat_lon_duplicated',\n",
       "       'minutes_lat_lon_duplicated', 'dist_day_lat_lon_duplicated',\n",
       "       'dist_dayperiod_lat_lon_duplicated', 'dist_hour_lat_lon_duplicated',\n",
       "       'is_dist', 'is_f_class', 'is_s_class', 'is_t_class'],\n",
       "      dtype='object')"
      ]
     },
     "execution_count": 26,
     "metadata": {},
     "output_type": "execute_result"
    }
   ],
   "source": [
    "df_train_encoded.columns"
   ]
  },
  {
   "cell_type": "markdown",
   "id": "f3a34879-afbd-4859-abb7-9493e79f0835",
   "metadata": {},
   "source": [
    "# Creating model\n",
    "\n",
    "Создаём модель. Используем CatBoostClassifier. Модель практически не тюнилась (немного ручками), но показывает довольно хорошие результаты."
   ]
  },
  {
   "cell_type": "code",
   "execution_count": 27,
   "id": "cc544c53-bcef-414e-a949-3d1789ab7d95",
   "metadata": {},
   "outputs": [
    {
     "name": "stdout",
     "output_type": "stream",
     "text": [
      "Train shape : (949968, 35)\n",
      "Val shape : (237493, 35)\n",
      "Test shape : (510937, 35)\n"
     ]
    }
   ],
   "source": [
    "X_train = np.array(df_train_encoded)\n",
    "X_val = np.array(df_val_encoded)\n",
    "X_test = np.array(df_test_encoded)\n",
    "\n",
    "\n",
    "print(f'Train shape : {X_train.shape}')\n",
    "print(f'Val shape : {X_val.shape}')\n",
    "print(f'Test shape : {X_test.shape}')"
   ]
  },
  {
   "cell_type": "code",
   "execution_count": 28,
   "id": "ea81dcaf-148e-4c04-aa0e-c4e67cc0d4e1",
   "metadata": {},
   "outputs": [
    {
     "name": "stdout",
     "output_type": "stream",
     "text": [
      "0:\tlearn: 0.6148444\ttotal: 851ms\tremaining: 14m 10s\n",
      "100:\tlearn: 0.3350931\ttotal: 55.1s\tremaining: 8m 10s\n",
      "200:\tlearn: 0.3308353\ttotal: 1m 51s\tremaining: 7m 23s\n",
      "300:\tlearn: 0.3272181\ttotal: 2m 46s\tremaining: 6m 25s\n",
      "400:\tlearn: 0.3240791\ttotal: 3m 42s\tremaining: 5m 32s\n",
      "500:\tlearn: 0.3212054\ttotal: 4m 38s\tremaining: 4m 37s\n",
      "600:\tlearn: 0.3184392\ttotal: 5m 35s\tremaining: 3m 43s\n",
      "700:\tlearn: 0.3158847\ttotal: 6m 33s\tremaining: 2m 47s\n",
      "800:\tlearn: 0.3135711\ttotal: 7m 28s\tremaining: 1m 51s\n",
      "900:\tlearn: 0.3111737\ttotal: 8m 24s\tremaining: 55.5s\n",
      "999:\tlearn: 0.3089748\ttotal: 9m 19s\tremaining: 0us\n"
     ]
    },
    {
     "data": {
      "text/plain": [
       "<catboost.core.CatBoostClassifier at 0x1661f0a8e20>"
      ]
     },
     "execution_count": 28,
     "metadata": {},
     "output_type": "execute_result"
    }
   ],
   "source": [
    "from catboost import CatBoostClassifier\n",
    "\n",
    "model = CatBoostClassifier(iterations=1000,\n",
    "                            loss_function = 'Logloss',\n",
    "                            task_type=\"CPU\",\n",
    "                            max_depth=9,\n",
    "                            learning_rate= 0.1,\n",
    "                            random_state=1\n",
    "                            )\n",
    "\n",
    "model.fit(X = X_train,\n",
    "          y = y_train, \n",
    "          verbose = 100,\n",
    "          early_stopping_rounds=50)"
   ]
  },
  {
   "cell_type": "markdown",
   "id": "585fed7a-932b-487f-ad5a-055f0b692464",
   "metadata": {},
   "source": [
    "roc_auc_score = 0.740848867735586"
   ]
  },
  {
   "cell_type": "code",
   "execution_count": 29,
   "id": "e8cef30b-c4df-417a-8ae7-95faf78dbdd9",
   "metadata": {},
   "outputs": [
    {
     "name": "stdout",
     "output_type": "stream",
     "text": [
      "roc_auc_score = 0.740848867735586\n"
     ]
    }
   ],
   "source": [
    "from sklearn.metrics import roc_auc_score\n",
    "\n",
    "val_preds = model.predict_proba(X_val)[:, 1]\n",
    "\n",
    "print(f'roc_auc_score = {roc_auc_score(y_val.reshape(-1), val_preds)}')"
   ]
  },
  {
   "cell_type": "markdown",
   "id": "f4b53a93-b6cd-4b40-bacb-b981eb41766a",
   "metadata": {},
   "source": [
    "Ниже представлен график важности признаков. Видно, что новые признаки были нагенерированы хорошо))"
   ]
  },
  {
   "cell_type": "code",
   "execution_count": 30,
   "id": "fff2497b-ac58-4ac9-8321-e7cb7a457e4a",
   "metadata": {},
   "outputs": [
    {
     "data": {
      "image/png": "[encoded data removed]",
      "text/plain": [
       "<Figure size 864x432 with 1 Axes>"
      ]
     },
     "metadata": {
      "needs_background": "light"
     },
     "output_type": "display_data"
    }
   ],
   "source": [
    "feat_importances = pd.Series(model.feature_importances_, index=df_train_encoded.columns).sort_values()\n",
    "plt.figure(figsize=(12,6))\n",
    "feat_importances.plot(kind='barh')\n",
    "plt.show()"
   ]
  },
  {
   "cell_type": "markdown",
   "id": "4338be6a-a7d6-48fd-b9ab-28bec97a738e",
   "metadata": {},
   "source": [
    "Сабмит пока не делаем, код сабмита представлен в ноутбуке baseline2_solution_fulldata, так как обучить подобранную модель хочется на всех данных."
   ]
  }
 ],
 "metadata": {
  "kernelspec": {
   "display_name": "Python 3 (ipykernel)",
   "language": "python",
   "name": "python3"
  },
  "language_info": {
   "codemirror_mode": {
    "name": "ipython",
    "version": 3
   },
   "file_extension": ".py",
   "mimetype": "text/x-python",
   "name": "python",
   "nbconvert_exporter": "python",
   "pygments_lexer": "ipython3",
   "version": "3.8.12"
  }
 },
 "nbformat": 4,
 "nbformat_minor": 5
}
